{
 "cells": [
  {
   "cell_type": "code",
   "execution_count": 1,
   "id": "05cef491-2293-4906-b1ff-6240eaa1340d",
   "metadata": {},
   "outputs": [],
   "source": [
    "import pandas as pd\n",
    "\n",
    "econ_path = \"/Users/amosmbp14/Jupyter notebook/News_classifier/dataset/econ_news.csv\"\n",
    "econ_df = pd.read_csv(econ_path)\n",
    "econ_df['category'] = \"economy\"\n",
    "\n",
    "env_path = \"/Users/amosmbp14/Jupyter notebook/News_classifier/dataset/env_news.csv\"\n",
    "env_df = pd.read_csv(env_path)\n",
    "env_df['category'] = \"environment\"\n",
    "\n",
    "law_path = \"/Users/amosmbp14/Jupyter notebook/News_classifier/dataset/law_news.csv\"\n",
    "law_df = pd.read_csv(law_path)\n",
    "law_df['category'] = \"law\"\n",
    "\n",
    "pol_path = \"/Users/amosmbp14/Jupyter notebook/News_classifier/dataset/pol_news.csv\"\n",
    "pol_df = pd.read_csv(pol_path)\n",
    "pol_df[\"category\"] = \"politics\"\n",
    "\n",
    "tech_path = \"/Users/amosmbp14/Jupyter notebook/News_classifier/dataset/tech_news.csv\"\n",
    "tech_df = pd.read_csv(tech_path)\n",
    "tech_df[\"category\"] = \"technology\""
   ]
  },
  {
   "cell_type": "code",
   "execution_count": 2,
   "id": "c3c4bb13-8e0f-42dc-8ba2-f015c11a5020",
   "metadata": {},
   "outputs": [],
   "source": [
    "new_for_ML = pd.concat([econ_df,env_df,law_df,pol_df,tech_df],\n",
    "                      axis = 0, ignore_index = True) "
   ]
  },
  {
   "cell_type": "code",
   "execution_count": 3,
   "id": "f21fca7d-d657-4c6f-865b-4d2602a4d78b",
   "metadata": {},
   "outputs": [],
   "source": [
    "file_path = '/Users/amosmbp14/Jupyter notebook/News_classifier/dataset/news_for_ML.csv'\n",
    "new_for_ML.to_csv(file_path)"
   ]
  }
 ],
 "metadata": {
  "kernelspec": {
   "display_name": "Python 3 (ipykernel)",
   "language": "python",
   "name": "python3"
  },
  "language_info": {
   "codemirror_mode": {
    "name": "ipython",
    "version": 3
   },
   "file_extension": ".py",
   "mimetype": "text/x-python",
   "name": "python",
   "nbconvert_exporter": "python",
   "pygments_lexer": "ipython3",
   "version": "3.9.7"
  }
 },
 "nbformat": 4,
 "nbformat_minor": 5
}
