{
 "cells": [
  {
   "cell_type": "markdown",
   "id": "a3626950-85af-43f9-a534-1a0d23a2c0bf",
   "metadata": {},
   "source": [
    "# News summarization by SPACY package"
   ]
  },
  {
   "cell_type": "markdown",
   "id": "5bf82f2f-b815-40db-9648-1f1301a1113b",
   "metadata": {},
   "source": [
    "Frist, it loads the pre-trained model to the text before text pre-processing and cleaning"
   ]
  },
  {
   "cell_type": "code",
   "execution_count": 105,
   "id": "cb479133-ed7f-4e5a-a8ca-f8834b070657",
   "metadata": {},
   "outputs": [],
   "source": [
    "import spacy\n",
    "from spacy.lang.en.stop_words import STOP_WORDS\n",
    "from string import punctuation"
   ]
  },
  {
   "cell_type": "markdown",
   "id": "385f47c6-7043-4d7b-81c9-3a7851800d5c",
   "metadata": {},
   "source": [
    "Loading the pre-trained english language model."
   ]
  },
  {
   "cell_type": "code",
   "execution_count": 106,
   "id": "62fd2a1a-0b3d-4019-8afe-3f7822960fdd",
   "metadata": {},
   "outputs": [],
   "source": [
    "nlp = spacy.load('en_core_web_sm')"
   ]
  },
  {
   "cell_type": "markdown",
   "id": "0a681af0-1e8f-48de-846f-facbbb18ac82",
   "metadata": {},
   "source": [
    "Set up a variable to store news text for testing."
   ]
  },
  {
   "cell_type": "code",
   "execution_count": 107,
   "id": "86b5db06-0f11-4a3b-b0f6-ef1ab5ea2a23",
   "metadata": {},
   "outputs": [],
   "source": [
    "news_text = \"Suella Braverman has said she very much hopes the prime \\\n",
    "minister changes course with his efforts to tackle illegal migration \\\n",
    "after his plan to send asylum seekers to Rwanda was dealt a blow with \\\n",
    "the resignation of Robert Jenrick. The former home secretary, who was \\\n",
    "sacked by Rishi Sunak last month, said she wanted the prime minister to \\\n",
    "succeed in stopping the boats but that he would have to change course and \\\n",
    "take on observations from critics to do that. Ms Braverman, who warned in \\\n",
    "the Commons on Wednesday that the Conservatives faced electoral oblivion \\\n",
    "in a matter of months over the issue, told BBC Radio 4s Today programme: \\\n",
    "I want the prime minister to succeed in stopping the boats. He said he \\\n",
    "would do whatever it takes. I'm telling him there is a way to succeed in \\\n",
    "stopping the boats and fulfilling that promise. If we do it, if he does \\\n",
    "it as prime minister, he will be able to lead us into the next election \\\n",
    "telling the people we have succeeded on this very important pledge. Ms \\\n",
    "Braverman is the latest senior Conservative to pour scorn on the prime \\\n",
    "minister's emergency Rwanda bill, published last night, which compels UK \\\n",
    "judges to treat the African nation as a safe country and gives ministers \\\n",
    "powers to disregard sections of the Human Rights Act. Last night, Mr Sunak \\\n",
    "suffered the resignation of Mr Jenrick over the bill, which he said does \\\n",
    "not go far enough and represented a triumph of hope over experience. On \\\n",
    "Thursday morning, Mr Jenrick was replaced with two people after the \\\n",
    "government carved the role of Minister of State for Immigration into \\\n",
    "Minister for Illegal Migration and Minister for Legal Migration and Delivery. \\\n",
    "Michael Tomlinson was appointed Minister for Illegal Migration while Tom \\\n",
    "Pursglove was moved into the post of Minister for Legal Migration and \\\n",
    "Delivery. Robert Courts is now the new solicitor general after Mr Tomlinson \\\n",
    "was moved from the role. Although the bill allows ministers to disapply \\\n",
    "sections of the Human Rights Act, it does not disregard the entire \\\n",
    "legislation, as some had demanded, and it does not include powers to dismiss \\\n",
    "the whole of the European Convention on Human Rights (ECHR). Ms Braverman \\\n",
    "agreed with Mr Jenrick in saying that the prime minister's bill as it \\\n",
    "currently stands won't work and ultimately will fail. There are elements that \\\n",
    "should be welcomed in this new bill that the prime minister has presented, Ms \\\n",
    "Braverman said. But taken as a whole and looking at the reality of the \\\n",
    "challenges that are involved in detaining people, removing people and \\\n",
    "getting them to Rwanda - this is a very litigious field and there are lots of \\\n",
    "legal frameworks that apply - the reality is, and the sorry truth is, that it \\\n",
    "won't work and it will not stop the boats. She added: You can't tweak at this \\\n",
    "problem. We can't do half measures. We have to totally exclude international \\\n",
    "law - the Refugee Convention, other broader avenues of legal challenge. \\\n",
    "The former home secretary was challenged on her motives for opposing the bill, \\\n",
    "to which she replied that she wanted the prime minister to fulfil the promise \\\n",
    "he made to stop the boats. She indicated that her support for Mr Sunak was \\\n",
    "contingent on adopting a receptive attitude to some of the changes people are \\\n",
    "suggesting and added: There is still time to change this bill. Asked whether \\\n",
    "he could remain as Tory leader if he decided not to change the bill, \\\n",
    "Ms Braverman said: No one is talking about leadership or changing leader. \\\n",
    "Put to her that that was nonsense and pressed on whether she would plot \\\n",
    "against Mr Sunak to remove him, she replied: I want the prime minister to \\\n",
    "succeed in stopping the boats.\""
   ]
  },
  {
   "cell_type": "markdown",
   "id": "49845aba-3ddb-4989-b450-35ba6a1c5a6c",
   "metadata": {},
   "source": [
    "Using the above spacy pre-trained model 'nlp' to process the text."
   ]
  },
  {
   "cell_type": "code",
   "execution_count": 108,
   "id": "295f3de0-7d63-4d22-bbf9-0ef518282b69",
   "metadata": {},
   "outputs": [
    {
     "data": {
      "text/plain": [
       "Suella Braverman has said she very much hopes the prime minister changes course with his efforts to tackle illegal migration after his plan to send asylum seekers to Rwanda was dealt a blow with the resignation of Robert Jenrick. The former home secretary, who was sacked by Rishi Sunak last month, said she wanted the prime minister to succeed in stopping the boats but that he would have to change course and take on observations from critics to do that. Ms Braverman, who warned in the Commons on Wednesday that the Conservatives faced electoral oblivion in a matter of months over the issue, told BBC Radio 4s Today programme: I want the prime minister to succeed in stopping the boats. He said he would do whatever it takes. I'm telling him there is a way to succeed in stopping the boats and fulfilling that promise. If we do it, if he does it as prime minister, he will be able to lead us into the next election telling the people we have succeeded on this very important pledge. Ms Braverman is the latest senior Conservative to pour scorn on the prime minister's emergency Rwanda bill, published last night, which compels UK judges to treat the African nation as a safe country and gives ministers powers to disregard sections of the Human Rights Act. Last night, Mr Sunak suffered the resignation of Mr Jenrick over the bill, which he said does not go far enough and represented a triumph of hope over experience. On Thursday morning, Mr Jenrick was replaced with two people after the government carved the role of Minister of State for Immigration into Minister for Illegal Migration and Minister for Legal Migration and Delivery. Michael Tomlinson was appointed Minister for Illegal Migration while Tom Pursglove was moved into the post of Minister for Legal Migration and Delivery. Robert Courts is now the new solicitor general after Mr Tomlinson was moved from the role. Although the bill allows ministers to disapply sections of the Human Rights Act, it does not disregard the entire legislation, as some had demanded, and it does not include powers to dismiss the whole of the European Convention on Human Rights (ECHR). Ms Braverman agreed with Mr Jenrick in saying that the prime minister's bill as it currently stands won't work and ultimately will fail. There are elements that should be welcomed in this new bill that the prime minister has presented, Ms Braverman said. But taken as a whole and looking at the reality of the challenges that are involved in detaining people, removing people and getting them to Rwanda - this is a very litigious field and there are lots of legal frameworks that apply - the reality is, and the sorry truth is, that it won't work and it will not stop the boats. She added: You can't tweak at this problem. We can't do half measures. We have to totally exclude international law - the Refugee Convention, other broader avenues of legal challenge. The former home secretary was challenged on her motives for opposing the bill, to which she replied that she wanted the prime minister to fulfil the promise he made to stop the boats. She indicated that her support for Mr Sunak was contingent on adopting a receptive attitude to some of the changes people are suggesting and added: There is still time to change this bill. Asked whether he could remain as Tory leader if he decided not to change the bill, Ms Braverman said: No one is talking about leadership or changing leader. Put to her that that was nonsense and pressed on whether she would plot against Mr Sunak to remove him, she replied: I want the prime minister to succeed in stopping the boats."
      ]
     },
     "execution_count": 108,
     "metadata": {},
     "output_type": "execute_result"
    }
   ],
   "source": [
    "doc = nlp(news_text)\n",
    "doc"
   ]
  },
  {
   "cell_type": "markdown",
   "id": "ec5e73ed-abd6-4cb4-a0d3-b3b10a69825f",
   "metadata": {},
   "source": [
    "# Text pre-processing"
   ]
  },
  {
   "cell_type": "code",
   "execution_count": 112,
   "id": "66de41ee-d372-4c68-8d1d-499acae78409",
   "metadata": {},
   "outputs": [],
   "source": [
    "# Tokenization\n",
    "tokens = [token.text for token in doc]"
   ]
  },
  {
   "cell_type": "code",
   "execution_count": 113,
   "id": "24b57c3b-ca66-4a4f-b52c-69e9daf65550",
   "metadata": {},
   "outputs": [],
   "source": [
    "# Add extra punctuations\n",
    "punctuation = punctuation + '\\n                 '"
   ]
  },
  {
   "cell_type": "markdown",
   "id": "461fff6c-22b7-4a22-8585-c4284154e5e6",
   "metadata": {},
   "source": [
    "After tokenization, it will calculate the word frequency for meaning summarization"
   ]
  },
  {
   "cell_type": "code",
   "execution_count": 115,
   "id": "a7f5b39a-c140-43af-a179-1a5112ededc3",
   "metadata": {},
   "outputs": [
    {
     "name": "stdout",
     "output_type": "stream",
     "text": [
      "{'suella': 1, 'braverman': 6, 'said': 6, 'hopes': 1, 'prime': 9, 'minister': 14, 'changes': 2, 'course': 2, 'efforts': 1, 'tackle': 1, 'illegal': 3, 'migration': 5, 'plan': 1, 'send': 1, 'asylum': 1, 'seekers': 1, 'rwanda': 3, 'dealt': 1, 'blow': 1, 'resignation': 2, 'robert': 2, 'jenrick': 4, 'home': 2, 'secretary': 2, 'sacked': 1, 'rishi': 1, 'sunak': 4, 'month': 1, 'wanted': 2, 'succeed': 4, 'stopping': 4, 'boats': 6, 'change': 3, 'observations': 1, 'critics': 1, 'ms': 5, 'warned': 1, 'commons': 1, 'wednesday': 1, 'conservatives': 1, 'faced': 1, 'electoral': 1, 'oblivion': 1, 'matter': 1, 'months': 1, 'issue': 1, 'told': 1, 'bbc': 1, 'radio': 1, '4s': 1, 'today': 1, 'programme': 1, 'want': 2, 'takes': 1, 'telling': 2, 'way': 1, 'fulfilling': 1, 'promise': 2, 'able': 1, 'lead': 1, 'election': 1, 'people': 5, 'succeeded': 1, 'important': 1, 'pledge': 1, 'latest': 1, 'senior': 1, 'conservative': 1, 'pour': 1, 'scorn': 1, 'emergency': 1, 'bill': 8, 'published': 1, 'night': 2, 'compels': 1, 'uk': 1, 'judges': 1, 'treat': 1, 'african': 1, 'nation': 1, 'safe': 1, 'country': 1, 'gives': 1, 'ministers': 2, 'powers': 2, 'disregard': 2, 'sections': 2, 'human': 3, 'rights': 3, 'act': 2, 'mr': 7, 'suffered': 1, 'far': 1, 'represented': 1, 'triumph': 1, 'hope': 1, 'experience': 1, 'thursday': 1, 'morning': 1, 'replaced': 1, 'government': 1, 'carved': 1, 'role': 2, 'state': 1, 'immigration': 1, 'legal': 4, 'delivery': 2, 'michael': 1, 'tomlinson': 2, 'appointed': 1, 'tom': 1, 'pursglove': 1, 'moved': 2, 'post': 1, 'courts': 1, 'new': 2, 'solicitor': 1, 'general': 1, 'allows': 1, 'disapply': 1, 'entire': 1, 'legislation': 1, 'demanded': 1, 'include': 1, 'dismiss': 1, 'european': 1, 'convention': 2, 'echr': 1, 'agreed': 1, 'saying': 1, 'currently': 1, 'stands': 1, 'wo': 2, 'work': 2, 'ultimately': 1, 'fail': 1, 'elements': 1, 'welcomed': 1, 'presented': 1, 'taken': 1, 'looking': 1, 'reality': 2, 'challenges': 1, 'involved': 1, 'detaining': 1, 'removing': 1, 'getting': 1, 'litigious': 1, 'field': 1, 'lots': 1, 'frameworks': 1, 'apply': 1, 'sorry': 1, 'truth': 1, 'stop': 2, 'added': 2, 'tweak': 1, 'problem': 1, 'half': 1, 'measures': 1, 'totally': 1, 'exclude': 1, 'international': 1, 'law': 1, 'refugee': 1, 'broader': 1, 'avenues': 1, 'challenge': 1, 'challenged': 1, 'motives': 1, 'opposing': 1, 'replied': 2, 'fulfil': 1, 'indicated': 1, 'support': 1, 'contingent': 1, 'adopting': 1, 'receptive': 1, 'attitude': 1, 'suggesting': 1, 'time': 1, 'asked': 1, 'remain': 1, 'tory': 1, 'leader': 2, 'decided': 1, 'talking': 1, 'leadership': 1, 'changing': 1, 'nonsense': 1, 'pressed': 1, 'plot': 1, 'remove': 1}\n"
     ]
    }
   ],
   "source": [
    "# Text preprocessing and cleaning\n",
    "word_freq = {} # store frequency of each words\n",
    "stop_words = list(STOP_WORDS) # filter common stop words\n",
    "\n",
    "# Count the word frequency\n",
    "for word in doc:\n",
    "    word_lower = word.text.lower()\n",
    "    if word_lower not in stop_words:\n",
    "        if word_lower not in punctuation:\n",
    "            if word_lower not in word_freq.keys():\n",
    "                word_freq[word_lower] = 1\n",
    "            else:\n",
    "                word_freq[word_lower] += 1\n",
    "print(word_freq)"
   ]
  },
  {
   "cell_type": "code",
   "execution_count": 41,
   "id": "85cf32db-f2f7-43eb-9164-46ca67ba7263",
   "metadata": {},
   "outputs": [],
   "source": [
    "# normalizing frequency counts\n",
    "# frequency change to 0 - 1 range\n",
    "for word in word_freq.keys():\n",
    "    word_freq[word] = word_freq[word]/max(word_freq.values())\n",
    "\n",
    "# normalized frequency values\n",
    "# print(word_freq)"
   ]
  },
  {
   "cell_type": "code",
   "execution_count": 42,
   "id": "078e4e32-4b48-464f-8a4e-8f48988dc2c1",
   "metadata": {},
   "outputs": [
    {
     "data": {
      "text/plain": [
       "[Suella Braverman has said she very much hopes the prime minister changes course with his efforts to tackle illegal migration after his plan to send asylum seekers to Rwanda was dealt a blow with the resignation of Robert Jenrick.,\n",
       " The former home secretary, who was sacked by Rishi Sunak last month, said she wanted the prime minister to succeed in stopping the boats but that he would have to change course and take on observations from critics to do that.,\n",
       " Ms Braverman, who warned in the Commons on Wednesday that the Conservatives faced electoral oblivion in a matter of months over the issue, told BBC Radio 4s Today programme: I want the prime minister to succeed in stopping the boats.,\n",
       " He said he would do whatever it takes.,\n",
       " I'm telling him there is a way to succeed in stopping the boats and fulfilling that promise.,\n",
       " If we do it, if he does it as prime minister, he will be able to lead us into the next election telling the people we have succeeded on this very important pledge.,\n",
       " Ms Braverman is the latest senior Conservative to pour scorn on the prime minister's emergency Rwanda bill, published last night, which compels UK judges to treat the African nation as a safe country and gives ministers powers to disregard sections of the Human Rights Act.,\n",
       " Last night, Mr Sunak suffered the resignation of Mr Jenrick over the bill, which he said does not go far enough and represented a triumph of hope over experience.,\n",
       " On Thursday morning, Mr Jenrick was replaced with two people after the government carved the role of Minister of State for Immigration into Minister for Illegal Migration and Minister for Legal Migration and Delivery.,\n",
       " Michael Tomlinson was appointed Minister for Illegal Migration while Tom Pursglove was moved into the post of Minister for Legal Migration and Delivery.,\n",
       " Robert Courts is now the new solicitor general after Mr Tomlinson was moved from the role.,\n",
       " Although the bill allows ministers to disapply sections of the Human Rights Act, it does not disregard the entire legislation, as some had demanded, and it does not include powers to dismiss the whole of the European Convention on Human Rights (ECHR).,\n",
       " Ms Braverman agreed with Mr Jenrick in saying that the prime minister's bill as it currently stands won't work and ultimately will fail.,\n",
       " There are elements that should be welcomed in this new bill that the prime minister has presented, Ms Braverman said.,\n",
       " But taken as a whole and looking at the reality of the challenges that are involved in detaining people, removing people and getting them to Rwanda - this is a very litigious field and there are lots of legal frameworks that apply - the reality is, and the sorry truth is, that it won't work and it will not stop the boats.,\n",
       " She added: You can't tweak at this problem.,\n",
       " We can't do half measures.,\n",
       " We have to totally exclude international law - the Refugee Convention, other broader avenues of legal challenge.,\n",
       " The former home secretary was challenged on her motives for opposing the bill, to which she replied that she wanted the prime minister to fulfil the promise he made to stop the boats.,\n",
       " She indicated that her support for Mr Sunak was contingent on adopting a receptive attitude to some of the changes people are suggesting and added: There is still time to change this bill.,\n",
       " Asked whether he could remain as Tory leader if he decided not to change the bill, Ms Braverman said: No one is talking about leadership or changing leader.,\n",
       " Put to her that that was nonsense and pressed on whether she would plot against Mr Sunak to remove him, she replied: I want the prime minister to succeed in stopping the boats.]"
      ]
     },
     "execution_count": 42,
     "metadata": {},
     "output_type": "execute_result"
    }
   ],
   "source": [
    "# Sentence Tokenization list\n",
    "sent_tokens = [sent for sent in doc.sents]\n",
    "sent_tokens"
   ]
  },
  {
   "cell_type": "code",
   "execution_count": 49,
   "id": "f357a97e-2a05-45cb-9cc2-5aa6171dd101",
   "metadata": {},
   "outputs": [
    {
     "name": "stdout",
     "output_type": "stream",
     "text": [
      "{Suella Braverman has said she very much hopes the prime minister changes course with his efforts to tackle illegal migration after his plan to send asylum seekers to Rwanda was dealt a blow with the resignation of Robert Jenrick.: 6.517857142857142, The former home secretary, who was sacked by Rishi Sunak last month, said she wanted the prime minister to succeed in stopping the boats but that he would have to change course and take on observations from critics to do that.: 6.321428571428571, Ms Braverman, who warned in the Commons on Wednesday that the Conservatives faced electoral oblivion in a matter of months over the issue, told BBC Radio 4s Today programme: I want the prime minister to succeed in stopping the boats.: 6.696428571428571, He said he would do whatever it takes.: 0.5535714285714286, I'm telling him there is a way to succeed in stopping the boats and fulfilling that promise.: 2.5, If we do it, if he does it as prime minister, he will be able to lead us into the next election telling the people we have succeeded on this very important pledge.: 3.267857142857143, Ms Braverman is the latest senior Conservative to pour scorn on the prime minister's emergency Rwanda bill, published last night, which compels UK judges to treat the African nation as a safe country and gives ministers powers to disregard sections of the Human Rights Act.: 8.821428571428575, Last night, Mr Sunak suffered the resignation of Mr Jenrick over the bill, which he said does not go far enough and represented a triumph of hope over experience.: 6.464285714285714, On Thursday morning, Mr Jenrick was replaced with two people after the government carved the role of Minister of State for Immigration into Minister for Illegal Migration and Minister for Legal Migration and Delivery.: 11.0, Michael Tomlinson was appointed Minister for Illegal Migration while Tom Pursglove was moved into the post of Minister for Legal Migration and Delivery.: 10.125, Robert Courts is now the new solicitor general after Mr Tomlinson was moved from the role.: 6.25, Although the bill allows ministers to disapply sections of the Human Rights Act, it does not disregard the entire legislation, as some had demanded, and it does not include powers to dismiss the whole of the European Convention on Human Rights (ECHR).: 9.642857142857142, Ms Braverman agreed with Mr Jenrick in saying that the prime minister's bill as it currently stands won't work and ultimately will fail.: 10.196428571428573, There are elements that should be welcomed in this new bill that the prime minister has presented, Ms Braverman said.: 6.625, But taken as a whole and looking at the reality of the challenges that are involved in detaining people, removing people and getting them to Rwanda - this is a very litigious field and there are lots of legal frameworks that apply - the reality is, and the sorry truth is, that it won't work and it will not stop the boats.: 15.375, She added: You can't tweak at this problem.: 2.0, We can't do half measures.: 1.0, We have to totally exclude international law - the Refugee Convention, other broader avenues of legal challenge.: 6.0, The former home secretary was challenged on her motives for opposing the bill, to which she replied that she wanted the prime minister to fulfil the promise he made to stop the boats.: 8.392857142857142, She indicated that her support for Mr Sunak was contingent on adopting a receptive attitude to some of the changes people are suggesting and added: There is still time to change this bill.: 8.75, Asked whether he could remain as Tory leader if he decided not to change the bill, Ms Braverman said: No one is talking about leadership or changing leader.: 10.357142857142858, Put to her that that was nonsense and pressed on whether she would plot against Mr Sunak to remove him, she replied: I want the prime minister to succeed in stopping the boats.: 10.142857142857142}\n"
     ]
    }
   ],
   "source": [
    "# Finding the sentence scores\n",
    "sent_score = {} # score for each sentence\n",
    "for sent in sent_tokens:\n",
    "    for word in sent:\n",
    "        if word.text.lower() in word_freq.keys():\n",
    "            if sent not in sent_score.keys():\n",
    "                sent_score[sent] = word_freq[word.text.lower()]\n",
    "            else:\n",
    "                sent_score[sent] += word_freq[word.text.lower()]\n",
    "\n",
    "print(sent_score)"
   ]
  },
  {
   "cell_type": "code",
   "execution_count": 50,
   "id": "5c47778a-b913-4aba-95ee-aed568deffb6",
   "metadata": {},
   "outputs": [
    {
     "name": "stdout",
     "output_type": "stream",
     "text": [
      "[But taken as a whole and looking at the reality of the challenges that are involved in detaining people, removing people and getting them to Rwanda - this is a very litigious field and there are lots of legal frameworks that apply - the reality is, and the sorry truth is, that it won't work and it will not stop the boats., On Thursday morning, Mr Jenrick was replaced with two people after the government carved the role of Minister of State for Immigration into Minister for Illegal Migration and Minister for Legal Migration and Delivery., Asked whether he could remain as Tory leader if he decided not to change the bill, Ms Braverman said: No one is talking about leadership or changing leader., Ms Braverman agreed with Mr Jenrick in saying that the prime minister's bill as it currently stands won't work and ultimately will fail.]\n"
     ]
    }
   ],
   "source": [
    "# Selecting 30% sentence with max socres\n",
    "from heapq import nlargest\n",
    "summary = nlargest(n=4, iterable = sent_score, \n",
    "                  key=sent_score.get)\n",
    "print(summary)"
   ]
  },
  {
   "cell_type": "markdown",
   "id": "e66a8693-d80f-4067-b778-29e06b3a9b94",
   "metadata": {},
   "source": [
    "# Write as a function"
   ]
  },
  {
   "cell_type": "code",
   "execution_count": 70,
   "id": "04ba9977-41a0-4ca6-8fdf-6d01d3a5eb2a",
   "metadata": {},
   "outputs": [],
   "source": [
    "import spacy\n",
    "from spacy.lang.en.stop_words import STOP_WORDS\n",
    "from string import punctuation\n",
    "from heapq import nlargest\n",
    "\n",
    "# Set 1: Text preprocessing\n",
    "def preprocess_text(text):\n",
    "    # loading the model and process the text\n",
    "    nlp = spacy.load('en_core_web_sm')\n",
    "    doc = nlp(text)\n",
    "    \n",
    "    # tokenization\n",
    "    tokens = [token.text for token in doc]\n",
    "\n",
    "    # add extra punctuations\n",
    "    cus_punctuation = punctuation + '\\n                 '\n",
    "    \n",
    "    # Counting the frequency\n",
    "    word_freq = {}\n",
    "    stop_words = list(STOP_WORDS)\n",
    "    \n",
    "    for word in doc:\n",
    "        word_lower = word.text.lower()\n",
    "        if word_lower not in stop_words and word_lower not in cus_punctuation:\n",
    "            if word_lower not in word_freq:\n",
    "                word_freq[word_lower] = 1\n",
    "            else:\n",
    "                word_freq[word_lower] += 1\n",
    "    \n",
    "    # frequency change to 0 - 1 range\n",
    "    for word in word_freq.keys():\n",
    "        word_freq[word] = word_freq[word]/max(word_freq.values())\n",
    "    \n",
    "    # Finding the sentence scores\n",
    "    sent_tokens = [sent for sent in doc.sents]\n",
    "    sent_score = {}\n",
    "    \n",
    "    for sent in sent_tokens:\n",
    "        for word in sent:\n",
    "            if word.text.lower() in word_freq:\n",
    "                if sent not in sent_score:\n",
    "                    sent_score[sent] = word_freq[word.text.lower()]\n",
    "                else:\n",
    "                    sent_score[sent] += word_freq[word.text.lower()]\n",
    "    \n",
    "    return sent_tokens, sent_score\n",
    "\n",
    "# Step 2: sumamraize the text\n",
    "def generate_summary(text, percent=0.3):\n",
    "    sent_tokens, sent_score = preprocess_text(text)\n",
    "    \n",
    "    # Selecting the top sentences based on scores\n",
    "    summary_spans = nlargest(n=4, iterable=sent_score, \n",
    "                       key=sent_score.get)\n",
    "\n",
    "    # Convert SpaCy spans to plain text strings\n",
    "    summary_strings = [span.text for span in summary_spans]\n",
    "    \n",
    "    # Return the summary as a list of strings\n",
    "    return summary_strings"
   ]
  },
  {
   "cell_type": "code",
   "execution_count": 71,
   "id": "ce87af70-5bd4-4216-94a9-c5cbe0627703",
   "metadata": {},
   "outputs": [],
   "source": [
    "summary = generate_summary(news_text)"
   ]
  },
  {
   "cell_type": "code",
   "execution_count": 74,
   "id": "dca35bb8-419e-447f-8c90-ec0f2e753299",
   "metadata": {},
   "outputs": [
    {
     "data": {
      "text/plain": [
       "[\"But taken as a whole and looking at the reality of the challenges that are involved in detaining people, removing people and getting them to Rwanda - this is a very litigious field and there are lots of legal frameworks that apply - the reality is, and the sorry truth is, that it won't work and it will not stop the boats.\",\n",
       " 'On Thursday morning, Mr Jenrick was replaced with two people after the government carved the role of Minister of State for Immigration into Minister for Illegal Migration and Minister for Legal Migration and Delivery.',\n",
       " 'Asked whether he could remain as Tory leader if he decided not to change the bill, Ms Braverman said: No one is talking about leadership or changing leader.',\n",
       " \"Ms Braverman agreed with Mr Jenrick in saying that the prime minister's bill as it currently stands won't work and ultimately will fail.\"]"
      ]
     },
     "execution_count": 74,
     "metadata": {},
     "output_type": "execute_result"
    }
   ],
   "source": [
    "summary"
   ]
  },
  {
   "cell_type": "code",
   "execution_count": 75,
   "id": "75517258-c337-4b5a-889d-fe1dcf39074e",
   "metadata": {},
   "outputs": [],
   "source": [
    "def join_list_text(list):\n",
    "\n",
    "    summary_paragraph = \" \".join(list)\n",
    "    \n",
    "    # Return the summary as a single paragraph\n",
    "    return summary_paragraph\n"
   ]
  },
  {
   "cell_type": "code",
   "execution_count": 77,
   "id": "d953f94b-468c-4f95-a9e9-474b1b2102dc",
   "metadata": {},
   "outputs": [
    {
     "data": {
      "text/plain": [
       "\"But taken as a whole and looking at the reality of the challenges that are involved in detaining people, removing people and getting them to Rwanda - this is a very litigious field and there are lots of legal frameworks that apply - the reality is, and the sorry truth is, that it won't work and it will not stop the boats. On Thursday morning, Mr Jenrick was replaced with two people after the government carved the role of Minister of State for Immigration into Minister for Illegal Migration and Minister for Legal Migration and Delivery. Asked whether he could remain as Tory leader if he decided not to change the bill, Ms Braverman said: No one is talking about leadership or changing leader. Ms Braverman agreed with Mr Jenrick in saying that the prime minister's bill as it currently stands won't work and ultimately will fail.\""
      ]
     },
     "execution_count": 77,
     "metadata": {},
     "output_type": "execute_result"
    }
   ],
   "source": [
    "improved_text = join_list_text(summary)\n",
    "improved_text"
   ]
  },
  {
   "cell_type": "markdown",
   "id": "382826ef-4b86-4b50-b4c7-3fa66f20d31f",
   "metadata": {},
   "source": [
    "# Text the function by reading news articles in excel or csv"
   ]
  },
  {
   "cell_type": "code",
   "execution_count": 79,
   "id": "67932e89-c77f-4dd8-84e2-fef278385d7a",
   "metadata": {},
   "outputs": [
    {
     "data": {
      "text/plain": [
       "'/Users/amosmbp14/Jupyter notebook/News_classifier'"
      ]
     },
     "execution_count": 79,
     "metadata": {},
     "output_type": "execute_result"
    }
   ],
   "source": [
    "import os\n",
    "cwd = os.getcwd()\n",
    "cwd"
   ]
  },
  {
   "cell_type": "code",
   "execution_count": 86,
   "id": "19be9237-36e5-4d25-8ccb-3757ed215ae2",
   "metadata": {},
   "outputs": [],
   "source": [
    "import pandas as pd\n",
    "news_dataset = pd.read_csv('/Users/amosmbp14/Jupyter notebook/News_classifier/dataset/novnews.csv')"
   ]
  },
  {
   "cell_type": "code",
   "execution_count": 87,
   "id": "243383eb-1f5f-40ed-accd-f13076760460",
   "metadata": {},
   "outputs": [
    {
     "data": {
      "text/html": [
       "<div>\n",
       "<style scoped>\n",
       "    .dataframe tbody tr th:only-of-type {\n",
       "        vertical-align: middle;\n",
       "    }\n",
       "\n",
       "    .dataframe tbody tr th {\n",
       "        vertical-align: top;\n",
       "    }\n",
       "\n",
       "    .dataframe thead th {\n",
       "        text-align: right;\n",
       "    }\n",
       "</style>\n",
       "<table border=\"1\" class=\"dataframe\">\n",
       "  <thead>\n",
       "    <tr style=\"text-align: right;\">\n",
       "      <th></th>\n",
       "      <th>soruce</th>\n",
       "      <th>uri</th>\n",
       "      <th>body</th>\n",
       "      <th>category</th>\n",
       "    </tr>\n",
       "  </thead>\n",
       "  <tbody>\n",
       "    <tr>\n",
       "      <th>0</th>\n",
       "      <td>bbc</td>\n",
       "      <td>https://www.bbc.co.uk/news/articles/cjrpzxpv90eo</td>\n",
       "      <td>The governor of the Bank of England has warned...</td>\n",
       "      <td>economy</td>\n",
       "    </tr>\n",
       "    <tr>\n",
       "      <th>1</th>\n",
       "      <td>bbc</td>\n",
       "      <td>https://www.bbc.co.uk/news/business-67539910</td>\n",
       "      <td>Chinese officials have launched an investigati...</td>\n",
       "      <td>economy</td>\n",
       "    </tr>\n",
       "    <tr>\n",
       "      <th>2</th>\n",
       "      <td>bbc</td>\n",
       "      <td>https://www.bbc.co.uk/news/world-europe-67544997</td>\n",
       "      <td>Eurostar services from the Netherlands to Lond...</td>\n",
       "      <td>economy</td>\n",
       "    </tr>\n",
       "    <tr>\n",
       "      <th>3</th>\n",
       "      <td>bbc</td>\n",
       "      <td>https://www.bbc.co.uk/news/business-67535723</td>\n",
       "      <td>Metro Bank shareholders have voted to back a r...</td>\n",
       "      <td>economy</td>\n",
       "    </tr>\n",
       "    <tr>\n",
       "      <th>4</th>\n",
       "      <td>bbc</td>\n",
       "      <td>https://www.bbc.co.uk/news/business-67539910</td>\n",
       "      <td>Chinese officials have launched an investigati...</td>\n",
       "      <td>economy</td>\n",
       "    </tr>\n",
       "  </tbody>\n",
       "</table>\n",
       "</div>"
      ],
      "text/plain": [
       "  soruce                                               uri  \\\n",
       "0    bbc  https://www.bbc.co.uk/news/articles/cjrpzxpv90eo   \n",
       "1    bbc      https://www.bbc.co.uk/news/business-67539910   \n",
       "2    bbc  https://www.bbc.co.uk/news/world-europe-67544997   \n",
       "3    bbc      https://www.bbc.co.uk/news/business-67535723   \n",
       "4    bbc      https://www.bbc.co.uk/news/business-67539910   \n",
       "\n",
       "                                                body category  \n",
       "0  The governor of the Bank of England has warned...  economy  \n",
       "1  Chinese officials have launched an investigati...  economy  \n",
       "2  Eurostar services from the Netherlands to Lond...  economy  \n",
       "3  Metro Bank shareholders have voted to back a r...  economy  \n",
       "4  Chinese officials have launched an investigati...  economy  "
      ]
     },
     "execution_count": 87,
     "metadata": {},
     "output_type": "execute_result"
    }
   ],
   "source": [
    "news_dataset.head()"
   ]
  },
  {
   "cell_type": "code",
   "execution_count": 90,
   "id": "1863cc5d-4cfe-4ed9-8f41-df119f4d3ac1",
   "metadata": {},
   "outputs": [
    {
     "data": {
      "text/plain": [
       "0     The governor of the Bank of England has warned...\n",
       "1     Chinese officials have launched an investigati...\n",
       "2     Eurostar services from the Netherlands to Lond...\n",
       "3     Metro Bank shareholders have voted to back a r...\n",
       "4     Chinese officials have launched an investigati...\n",
       "                            ...                        \n",
       "95    Google’s standard Pixel 8 gets a little smalle...\n",
       "96    A new class action lawsuit was filed against O...\n",
       "97    Only about 10% of drugs in development ever ma...\n",
       "98    On this Thanksgiving, many people are looking ...\n",
       "99    Jimmy Wales tells Euronews Next about the \"ter...\n",
       "Name: body, Length: 100, dtype: object"
      ]
     },
     "execution_count": 90,
     "metadata": {},
     "output_type": "execute_result"
    }
   ],
   "source": [
    "news_body = news_dataset['body']\n",
    "news_body"
   ]
  },
  {
   "cell_type": "code",
   "execution_count": 92,
   "id": "fb36623f-e8de-4712-a1a2-cbe3f00aceca",
   "metadata": {},
   "outputs": [
    {
     "name": "stdout",
     "output_type": "stream",
     "text": [
      "                                                 body  \\\n",
      "0   The governor of the Bank of England has warned...   \n",
      "1   Chinese officials have launched an investigati...   \n",
      "2   Eurostar services from the Netherlands to Lond...   \n",
      "3   Metro Bank shareholders have voted to back a r...   \n",
      "4   Chinese officials have launched an investigati...   \n",
      "..                                                ...   \n",
      "95  Google’s standard Pixel 8 gets a little smalle...   \n",
      "96  A new class action lawsuit was filed against O...   \n",
      "97  Only about 10% of drugs in development ever ma...   \n",
      "98  On this Thanksgiving, many people are looking ...   \n",
      "99  Jimmy Wales tells Euronews Next about the \"ter...   \n",
      "\n",
      "                                              summary  \n",
      "0   [It suggested the Bank's remit be \"pruned\", in...  \n",
      "1   [The latest developments at ZEG has raised con...  \n",
      "2   [In January, chief executive Gwendoline Cazena...  \n",
      "3   [\"This is testament to their belief and confid...  \n",
      "4   [The latest developments at ZEG has raised con...  \n",
      "..                                                ...  \n",
      "95  [Specifications\\n• Screen: 6.2in 120Hz FHD+ OL...  \n",
      "96  [In response to previous similar copyright all...  \n",
      "97  [The overarching goal for his company, Georges...  \n",
      "98  [Answers to the most asked CyberGuy questions:...  \n",
      "99  [His own social media experiment\\nWales has la...  \n",
      "\n",
      "[100 rows x 2 columns]\n"
     ]
    }
   ],
   "source": [
    "# Summarize the text directly in the DataFrame\n",
    "news_dataset['summary'] = news_dataset['body'].apply(lambda x: generate_summary(x))\n",
    "\n",
    "# Display the resulting DataFrame with summaries\n",
    "print(news_dataset[['body', 'summary']])"
   ]
  },
  {
   "cell_type": "code",
   "execution_count": 95,
   "id": "b6fb831d-5cfd-4915-add1-4ee735fe7beb",
   "metadata": {},
   "outputs": [],
   "source": [
    "news_dataset['summary'] = news_dataset['summary'].apply(lambda x: join_list_text(x))"
   ]
  },
  {
   "cell_type": "code",
   "execution_count": 96,
   "id": "bcd2640c-821b-45d1-a917-5830d4350964",
   "metadata": {},
   "outputs": [
    {
     "data": {
      "text/plain": [
       "0     It suggested the Bank's remit be \"pruned\", in ...\n",
       "1     The latest developments at ZEG has raised conc...\n",
       "2     In January, chief executive Gwendoline Cazenav...\n",
       "3     \"This is testament to their belief and confide...\n",
       "4     The latest developments at ZEG has raised conc...\n",
       "                            ...                        \n",
       "95    Specifications\\n• Screen: 6.2in 120Hz FHD+ OLE...\n",
       "96    In response to previous similar copyright alle...\n",
       "97    The overarching goal for his company, Georgesc...\n",
       "98    Answers to the most asked CyberGuy questions:\\...\n",
       "99    His own social media experiment\\nWales has lau...\n",
       "Name: summary, Length: 100, dtype: object"
      ]
     },
     "execution_count": 96,
     "metadata": {},
     "output_type": "execute_result"
    }
   ],
   "source": [
    "news_dataset['summary']"
   ]
  },
  {
   "cell_type": "code",
   "execution_count": 98,
   "id": "d2a7fc20-68d0-4583-8e90-9f92b67ecea0",
   "metadata": {},
   "outputs": [],
   "source": [
    "summarized_df = news_dataset[[\"body\",\"summary\"]]"
   ]
  },
  {
   "cell_type": "code",
   "execution_count": 99,
   "id": "fe185ac9-c4e2-4383-a3a3-3dba2ece614c",
   "metadata": {},
   "outputs": [
    {
     "data": {
      "text/html": [
       "<div>\n",
       "<style scoped>\n",
       "    .dataframe tbody tr th:only-of-type {\n",
       "        vertical-align: middle;\n",
       "    }\n",
       "\n",
       "    .dataframe tbody tr th {\n",
       "        vertical-align: top;\n",
       "    }\n",
       "\n",
       "    .dataframe thead th {\n",
       "        text-align: right;\n",
       "    }\n",
       "</style>\n",
       "<table border=\"1\" class=\"dataframe\">\n",
       "  <thead>\n",
       "    <tr style=\"text-align: right;\">\n",
       "      <th></th>\n",
       "      <th>body</th>\n",
       "      <th>summary</th>\n",
       "    </tr>\n",
       "  </thead>\n",
       "  <tbody>\n",
       "    <tr>\n",
       "      <th>0</th>\n",
       "      <td>The governor of the Bank of England has warned...</td>\n",
       "      <td>It suggested the Bank's remit be \"pruned\", in ...</td>\n",
       "    </tr>\n",
       "    <tr>\n",
       "      <th>1</th>\n",
       "      <td>Chinese officials have launched an investigati...</td>\n",
       "      <td>The latest developments at ZEG has raised conc...</td>\n",
       "    </tr>\n",
       "    <tr>\n",
       "      <th>2</th>\n",
       "      <td>Eurostar services from the Netherlands to Lond...</td>\n",
       "      <td>In January, chief executive Gwendoline Cazenav...</td>\n",
       "    </tr>\n",
       "    <tr>\n",
       "      <th>3</th>\n",
       "      <td>Metro Bank shareholders have voted to back a r...</td>\n",
       "      <td>\"This is testament to their belief and confide...</td>\n",
       "    </tr>\n",
       "    <tr>\n",
       "      <th>4</th>\n",
       "      <td>Chinese officials have launched an investigati...</td>\n",
       "      <td>The latest developments at ZEG has raised conc...</td>\n",
       "    </tr>\n",
       "    <tr>\n",
       "      <th>...</th>\n",
       "      <td>...</td>\n",
       "      <td>...</td>\n",
       "    </tr>\n",
       "    <tr>\n",
       "      <th>95</th>\n",
       "      <td>Google’s standard Pixel 8 gets a little smalle...</td>\n",
       "      <td>Specifications\\n• Screen: 6.2in 120Hz FHD+ OLE...</td>\n",
       "    </tr>\n",
       "    <tr>\n",
       "      <th>96</th>\n",
       "      <td>A new class action lawsuit was filed against O...</td>\n",
       "      <td>In response to previous similar copyright alle...</td>\n",
       "    </tr>\n",
       "    <tr>\n",
       "      <th>97</th>\n",
       "      <td>Only about 10% of drugs in development ever ma...</td>\n",
       "      <td>The overarching goal for his company, Georgesc...</td>\n",
       "    </tr>\n",
       "    <tr>\n",
       "      <th>98</th>\n",
       "      <td>On this Thanksgiving, many people are looking ...</td>\n",
       "      <td>Answers to the most asked CyberGuy questions:\\...</td>\n",
       "    </tr>\n",
       "    <tr>\n",
       "      <th>99</th>\n",
       "      <td>Jimmy Wales tells Euronews Next about the \"ter...</td>\n",
       "      <td>His own social media experiment\\nWales has lau...</td>\n",
       "    </tr>\n",
       "  </tbody>\n",
       "</table>\n",
       "<p>100 rows × 2 columns</p>\n",
       "</div>"
      ],
      "text/plain": [
       "                                                 body  \\\n",
       "0   The governor of the Bank of England has warned...   \n",
       "1   Chinese officials have launched an investigati...   \n",
       "2   Eurostar services from the Netherlands to Lond...   \n",
       "3   Metro Bank shareholders have voted to back a r...   \n",
       "4   Chinese officials have launched an investigati...   \n",
       "..                                                ...   \n",
       "95  Google’s standard Pixel 8 gets a little smalle...   \n",
       "96  A new class action lawsuit was filed against O...   \n",
       "97  Only about 10% of drugs in development ever ma...   \n",
       "98  On this Thanksgiving, many people are looking ...   \n",
       "99  Jimmy Wales tells Euronews Next about the \"ter...   \n",
       "\n",
       "                                              summary  \n",
       "0   It suggested the Bank's remit be \"pruned\", in ...  \n",
       "1   The latest developments at ZEG has raised conc...  \n",
       "2   In January, chief executive Gwendoline Cazenav...  \n",
       "3   \"This is testament to their belief and confide...  \n",
       "4   The latest developments at ZEG has raised conc...  \n",
       "..                                                ...  \n",
       "95  Specifications\\n• Screen: 6.2in 120Hz FHD+ OLE...  \n",
       "96  In response to previous similar copyright alle...  \n",
       "97  The overarching goal for his company, Georgesc...  \n",
       "98  Answers to the most asked CyberGuy questions:\\...  \n",
       "99  His own social media experiment\\nWales has lau...  \n",
       "\n",
       "[100 rows x 2 columns]"
      ]
     },
     "execution_count": 99,
     "metadata": {},
     "output_type": "execute_result"
    }
   ],
   "source": [
    "summarized_df"
   ]
  },
  {
   "cell_type": "code",
   "execution_count": 102,
   "id": "d14ce0ae-85bb-4b67-a751-6f459c5ba839",
   "metadata": {
    "scrolled": true
   },
   "outputs": [],
   "source": [
    "excel_file_path = '/Users/amosmbp14/Jupyter notebook/News_classifier/dataset/sum_news.xlsx'\n",
    "summarized_df.to_excel(excel_file_path, index=False)"
   ]
  }
 ],
 "metadata": {
  "kernelspec": {
   "display_name": "Python 3 (ipykernel)",
   "language": "python",
   "name": "python3"
  },
  "language_info": {
   "codemirror_mode": {
    "name": "ipython",
    "version": 3
   },
   "file_extension": ".py",
   "mimetype": "text/x-python",
   "name": "python",
   "nbconvert_exporter": "python",
   "pygments_lexer": "ipython3",
   "version": "3.9.18"
  }
 },
 "nbformat": 4,
 "nbformat_minor": 5
}
