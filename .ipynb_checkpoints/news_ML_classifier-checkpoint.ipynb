{
 "cells": [
  {
   "cell_type": "markdown",
   "metadata": {
    "id": "U50GxwwByt59"
   },
   "source": [
    "# Extract news articles from the path"
   ]
  },
  {
   "cell_type": "markdown",
   "metadata": {
    "id": "0MnvhXLXw-c2"
   },
   "source": [
    "Prepare dataset for news ML classifier."
   ]
  },
  {
   "cell_type": "code",
   "execution_count": 2,
   "metadata": {},
   "outputs": [
    {
     "data": {
      "text/plain": [
       "'/Users/amosmbp14/Jupyter notebook/News_classifier'"
      ]
     },
     "execution_count": 2,
     "metadata": {},
     "output_type": "execute_result"
    }
   ],
   "source": [
    "# Getting the directory\n",
    "import os\n",
    "os.path.dirname(os.path.realpath('__file__'))"
   ]
  },
  {
   "cell_type": "code",
   "execution_count": 3,
   "metadata": {
    "executionInfo": {
     "elapsed": 245,
     "status": "ok",
     "timestamp": 1700151306167,
     "user": {
      "displayName": "A mo",
      "userId": "15201845855792456180"
     },
     "user_tz": 0
    },
    "id": "kvWoVzTY1M6K"
   },
   "outputs": [],
   "source": [
    "import pandas as pd\n",
    "\n",
    "# Corrected file path\n",
    "file_path = \"/Users/amosmbp14/Jupyter notebook/News_classifier/dataset/news_for_ML.csv\"\n",
    "\n",
    "# Read the Excel file\n",
    "news_art_df = pd.read_csv(file_path)"
   ]
  },
  {
   "cell_type": "markdown",
   "metadata": {
    "id": "TK57iajK3kg2"
   },
   "source": [
    "# Cleanning and pre-processing"
   ]
  },
  {
   "cell_type": "markdown",
   "metadata": {},
   "source": [
    "Before cleanning, it shows some exploaratory data analysis:"
   ]
  },
  {
   "cell_type": "code",
   "execution_count": 4,
   "metadata": {
    "executionInfo": {
     "elapsed": 558,
     "status": "ok",
     "timestamp": 1700151631368,
     "user": {
      "displayName": "A mo",
      "userId": "15201845855792456180"
     },
     "user_tz": 0
    },
    "id": "IE4H0_l9guQc"
   },
   "outputs": [],
   "source": [
    "news_df = news_art_df[[\"title\", \"body\", \"category\", \"sourceTitle\"]]"
   ]
  },
  {
   "cell_type": "code",
   "execution_count": 5,
   "metadata": {
    "colab": {
     "base_uri": "https://localhost:8080/",
     "height": 201
    },
    "executionInfo": {
     "elapsed": 252,
     "status": "ok",
     "timestamp": 1700151633445,
     "user": {
      "displayName": "A mo",
      "userId": "15201845855792456180"
     },
     "user_tz": 0
    },
    "id": "6ds8puFJiPOt",
    "outputId": "fb299851-f047-48da-8fe0-3a2aca7af2b9"
   },
   "outputs": [
    {
     "data": {
      "text/html": [
       "<div>\n",
       "<style scoped>\n",
       "    .dataframe tbody tr th:only-of-type {\n",
       "        vertical-align: middle;\n",
       "    }\n",
       "\n",
       "    .dataframe tbody tr th {\n",
       "        vertical-align: top;\n",
       "    }\n",
       "\n",
       "    .dataframe thead th {\n",
       "        text-align: right;\n",
       "    }\n",
       "</style>\n",
       "<table border=\"1\" class=\"dataframe\">\n",
       "  <thead>\n",
       "    <tr style=\"text-align: right;\">\n",
       "      <th></th>\n",
       "      <th>title</th>\n",
       "      <th>body</th>\n",
       "      <th>category</th>\n",
       "      <th>sourceTitle</th>\n",
       "    </tr>\n",
       "  </thead>\n",
       "  <tbody>\n",
       "    <tr>\n",
       "      <th>0</th>\n",
       "      <td>Can China’s loan rule ‘trick’ help grease the ...</td>\n",
       "      <td>National Administration of Financial Regulatio...</td>\n",
       "      <td>economy</td>\n",
       "      <td>South China Morning Post</td>\n",
       "    </tr>\n",
       "    <tr>\n",
       "      <th>1</th>\n",
       "      <td>State power: Xi calls for firmer government ha...</td>\n",
       "      <td>To ensure stability and security in decisive s...</td>\n",
       "      <td>economy</td>\n",
       "      <td>South China Morning Post</td>\n",
       "    </tr>\n",
       "    <tr>\n",
       "      <th>2</th>\n",
       "      <td>How to fix China’s economy? Investors are unsu...</td>\n",
       "      <td>Investor sentiment around China’s prospects ha...</td>\n",
       "      <td>economy</td>\n",
       "      <td>South China Morning Post</td>\n",
       "    </tr>\n",
       "    <tr>\n",
       "      <th>3</th>\n",
       "      <td>China spins up new party finance organ as prop...</td>\n",
       "      <td>New commission, which began operations last mo...</td>\n",
       "      <td>economy</td>\n",
       "      <td>South China Morning Post</td>\n",
       "    </tr>\n",
       "    <tr>\n",
       "      <th>4</th>\n",
       "      <td>Commercial fishing groups sue 13 US tire maker...</td>\n",
       "      <td>TACOMA, Wash. (AP) - The 13 largest U.S. tire ...</td>\n",
       "      <td>economy</td>\n",
       "      <td>Daily Mail Online</td>\n",
       "    </tr>\n",
       "  </tbody>\n",
       "</table>\n",
       "</div>"
      ],
      "text/plain": [
       "                                               title  \\\n",
       "0  Can China’s loan rule ‘trick’ help grease the ...   \n",
       "1  State power: Xi calls for firmer government ha...   \n",
       "2  How to fix China’s economy? Investors are unsu...   \n",
       "3  China spins up new party finance organ as prop...   \n",
       "4  Commercial fishing groups sue 13 US tire maker...   \n",
       "\n",
       "                                                body category  \\\n",
       "0  National Administration of Financial Regulatio...  economy   \n",
       "1  To ensure stability and security in decisive s...  economy   \n",
       "2  Investor sentiment around China’s prospects ha...  economy   \n",
       "3  New commission, which began operations last mo...  economy   \n",
       "4  TACOMA, Wash. (AP) - The 13 largest U.S. tire ...  economy   \n",
       "\n",
       "                sourceTitle  \n",
       "0  South China Morning Post  \n",
       "1  South China Morning Post  \n",
       "2  South China Morning Post  \n",
       "3  South China Morning Post  \n",
       "4         Daily Mail Online  "
      ]
     },
     "execution_count": 5,
     "metadata": {},
     "output_type": "execute_result"
    }
   ],
   "source": [
    "news_df.head(5)"
   ]
  },
  {
   "cell_type": "code",
   "execution_count": 6,
   "metadata": {},
   "outputs": [
    {
     "name": "stdout",
     "output_type": "stream",
     "text": [
      "economy        4989\n",
      "politics       4173\n",
      "technology     2784\n",
      "law             857\n",
      "environment     780\n",
      "Name: category, dtype: int64\n"
     ]
    }
   ],
   "source": [
    "import pandas as pd\n",
    "cat_counts = news_df['category'].value_counts()\n",
    "\n",
    "# Display the counts of category\n",
    "print(cat_counts)"
   ]
  },
  {
   "cell_type": "code",
   "execution_count": 7,
   "metadata": {},
   "outputs": [
    {
     "data": {
      "image/png": "[encoded data removed]",
      "text/plain": [
       "<Figure size 576x576 with 1 Axes>"
      ]
     },
     "metadata": {},
     "output_type": "display_data"
    }
   ],
   "source": [
    "import matplotlib.pyplot as plt\n",
    "\n",
    "# Assuming cat_counts is your category counts\n",
    "labels = cat_counts.index\n",
    "sizes = cat_counts.values\n",
    "\n",
    "# Plotting the pie chart\n",
    "plt.figure(figsize=(8, 8))\n",
    "plt.pie(sizes, labels=labels, autopct='%1.1f%%', startangle=140)\n",
    "plt.title('Distribution of News Categories')\n",
    "plt.show()"
   ]
  },
  {
   "cell_type": "code",
   "execution_count": 8,
   "metadata": {},
   "outputs": [
    {
     "name": "stdout",
     "output_type": "stream",
     "text": [
      "News sources summary:\n",
      "\n",
      "Daily Mail Online               3390\n",
      "South China Morning Post        1246\n",
      "The Guardian                    1169\n",
      "Reuters                          780\n",
      "The Independent                  745\n",
      "Los Angeles Times                719\n",
      "POLITICO                         594\n",
      "The New York Times               592\n",
      "CBS News                         500\n",
      "CNN                              433\n",
      "Mirror                           416\n",
      "Fox News                         411\n",
      "Euronews English                 396\n",
      "The Telegraph                    300\n",
      "The Sun                          282\n",
      "NBC News                         223\n",
      "The Wall Street Journal          215\n",
      "Washington Post                  212\n",
      "Sky News                         206\n",
      "USA Today                        197\n",
      "EXPRESS                          154\n",
      "Metro                            123\n",
      "MSNBC.com                         70\n",
      "RadioFreeEurope/RadioLiberty      66\n",
      "SWI swissinfo.ch                  62\n",
      "HuffPost                          47\n",
      "Bloomberg Business                32\n",
      "GB News                            3\n",
      "Name: sourceTitle, dtype: int64\n"
     ]
    }
   ],
   "source": [
    "import pandas as pd\n",
    "source_counts = news_df['sourceTitle'].value_counts()\n",
    "\n",
    "# Display the counts\n",
    "print(\"News sources summary:\")\n",
    "print(\"\")\n",
    "print(source_counts)"
   ]
  },
  {
   "cell_type": "markdown",
   "metadata": {
    "id": "UPV-VkSBacA7"
   },
   "source": [
    "## Removing the stopwords and news agency features"
   ]
  },
  {
   "cell_type": "code",
   "execution_count": 9,
   "metadata": {
    "executionInfo": {
     "elapsed": 390,
     "status": "ok",
     "timestamp": 1700151740679,
     "user": {
      "displayName": "A mo",
      "userId": "15201845855792456180"
     },
     "user_tz": 0
    },
    "id": "3jduHrdViUaU"
   },
   "outputs": [],
   "source": [
    "import re\n",
    "from nltk.corpus import stopwords\n",
    "\n",
    "def standardize_sentences(sentences, agency_names=[]):\n",
    "    clean_sentences = []\n",
    "    stop_words = set(stopwords.words('english'))\n",
    "\n",
    "    for sentence in sentences:\n",
    "        lower_text = sentence.lower() # Lowercasing text\n",
    "\n",
    "        # regular expression for symbols\n",
    "        reg_exp_text = re.sub('[^a-zA-Z]', ' ', lower_text)\n",
    "\n",
    "        # remove stopwords\n",
    "        clean_sentence = ' '.join(word for word in reg_exp_text.split() if word not in stop_words)\n",
    "\n",
    "        # remove agency names\n",
    "        for agency in agency_names:\n",
    "            clean_sentence = clean_sentence.replace(agency, '')\n",
    "\n",
    "        # append clean sentences\n",
    "        clean_sentences.append(clean_sentence)\n",
    "\n",
    "    return clean_sentences\n"
   ]
  },
  {
   "cell_type": "code",
   "execution_count": 10,
   "metadata": {
    "executionInfo": {
     "elapsed": 9620,
     "status": "ok",
     "timestamp": 1700151752808,
     "user": {
      "displayName": "A mo",
      "userId": "15201845855792456180"
     },
     "user_tz": 0
    },
    "id": "U6sB44E1kqZE"
   },
   "outputs": [],
   "source": [
    "# Extract specific sentences to clean\n",
    "body = news_df[\"body\"]\n",
    "\n",
    "# News agency names is needed to be removed\n",
    "agency_names = [\n",
    "    \"dailymail\", \"south china morning post\", \"guardian\", \"reuters\", \"independent\",\n",
    "    \"los angeles times\", \"politico\", \"the new york times\", \"cbs\", \"cnn\",\n",
    "    \"mirror\", \"fox\", \"euronews\", \"telegraph\", \"sun\", \"nbc\", \"the wall street journal\",\n",
    "    \"wash\", \"sky\", \"usa today\", \"express\", \"metro\", \"msnbc\",\n",
    "    \"radiofreeeurope\", \"radioliberty\", \"swissinfo\", \"huffpost\", \"bloomberg\", \"gbnews\",\n",
    "    \"news\", \"ap\"\n",
    "]\n",
    "\n",
    "# Call the function to standardise the above text\n",
    "clean_body = standardize_sentences(body)"
   ]
  },
  {
   "cell_type": "code",
   "execution_count": 11,
   "metadata": {
    "colab": {
     "base_uri": "https://localhost:8080/",
     "height": 300
    },
    "executionInfo": {
     "elapsed": 243,
     "status": "ok",
     "timestamp": 1700151767425,
     "user": {
      "displayName": "A mo",
      "userId": "15201845855792456180"
     },
     "user_tz": 0
    },
    "id": "yEGW7Tu2mN1B",
    "outputId": "0fd3d951-93c7-4c2f-f1df-804356ea7289"
   },
   "outputs": [
    {
     "name": "stderr",
     "output_type": "stream",
     "text": [
      "/var/folders/y_/_4lmv2450t13fk_011cwcn3h0000gn/T/ipykernel_15047/2923812256.py:1: SettingWithCopyWarning: \n",
      "A value is trying to be set on a copy of a slice from a DataFrame.\n",
      "Try using .loc[row_indexer,col_indexer] = value instead\n",
      "\n",
      "See the caveats in the documentation: https://pandas.pydata.org/pandas-docs/stable/user_guide/indexing.html#returning-a-view-versus-a-copy\n",
      "  news_df['clean_body'] = clean_body\n"
     ]
    },
    {
     "data": {
      "text/html": [
       "<div>\n",
       "<style scoped>\n",
       "    .dataframe tbody tr th:only-of-type {\n",
       "        vertical-align: middle;\n",
       "    }\n",
       "\n",
       "    .dataframe tbody tr th {\n",
       "        vertical-align: top;\n",
       "    }\n",
       "\n",
       "    .dataframe thead th {\n",
       "        text-align: right;\n",
       "    }\n",
       "</style>\n",
       "<table border=\"1\" class=\"dataframe\">\n",
       "  <thead>\n",
       "    <tr style=\"text-align: right;\">\n",
       "      <th></th>\n",
       "      <th>title</th>\n",
       "      <th>body</th>\n",
       "      <th>category</th>\n",
       "      <th>sourceTitle</th>\n",
       "      <th>clean_body</th>\n",
       "    </tr>\n",
       "  </thead>\n",
       "  <tbody>\n",
       "    <tr>\n",
       "      <th>0</th>\n",
       "      <td>Can China’s loan rule ‘trick’ help grease the ...</td>\n",
       "      <td>National Administration of Financial Regulatio...</td>\n",
       "      <td>economy</td>\n",
       "      <td>South China Morning Post</td>\n",
       "      <td>national administration financial regulation l...</td>\n",
       "    </tr>\n",
       "    <tr>\n",
       "      <th>1</th>\n",
       "      <td>State power: Xi calls for firmer government ha...</td>\n",
       "      <td>To ensure stability and security in decisive s...</td>\n",
       "      <td>economy</td>\n",
       "      <td>South China Morning Post</td>\n",
       "      <td>ensure stability security decisive sectors xi ...</td>\n",
       "    </tr>\n",
       "    <tr>\n",
       "      <th>2</th>\n",
       "      <td>How to fix China’s economy? Investors are unsu...</td>\n",
       "      <td>Investor sentiment around China’s prospects ha...</td>\n",
       "      <td>economy</td>\n",
       "      <td>South China Morning Post</td>\n",
       "      <td>investor sentiment around china prospects rema...</td>\n",
       "    </tr>\n",
       "    <tr>\n",
       "      <th>3</th>\n",
       "      <td>China spins up new party finance organ as prop...</td>\n",
       "      <td>New commission, which began operations last mo...</td>\n",
       "      <td>economy</td>\n",
       "      <td>South China Morning Post</td>\n",
       "      <td>new commission began operations last month par...</td>\n",
       "    </tr>\n",
       "    <tr>\n",
       "      <th>4</th>\n",
       "      <td>Commercial fishing groups sue 13 US tire maker...</td>\n",
       "      <td>TACOMA, Wash. (AP) - The 13 largest U.S. tire ...</td>\n",
       "      <td>economy</td>\n",
       "      <td>Daily Mail Online</td>\n",
       "      <td>tacoma wash ap largest u tire manufacturers fa...</td>\n",
       "    </tr>\n",
       "  </tbody>\n",
       "</table>\n",
       "</div>"
      ],
      "text/plain": [
       "                                               title  \\\n",
       "0  Can China’s loan rule ‘trick’ help grease the ...   \n",
       "1  State power: Xi calls for firmer government ha...   \n",
       "2  How to fix China’s economy? Investors are unsu...   \n",
       "3  China spins up new party finance organ as prop...   \n",
       "4  Commercial fishing groups sue 13 US tire maker...   \n",
       "\n",
       "                                                body category  \\\n",
       "0  National Administration of Financial Regulatio...  economy   \n",
       "1  To ensure stability and security in decisive s...  economy   \n",
       "2  Investor sentiment around China’s prospects ha...  economy   \n",
       "3  New commission, which began operations last mo...  economy   \n",
       "4  TACOMA, Wash. (AP) - The 13 largest U.S. tire ...  economy   \n",
       "\n",
       "                sourceTitle                                         clean_body  \n",
       "0  South China Morning Post  national administration financial regulation l...  \n",
       "1  South China Morning Post  ensure stability security decisive sectors xi ...  \n",
       "2  South China Morning Post  investor sentiment around china prospects rema...  \n",
       "3  South China Morning Post  new commission began operations last month par...  \n",
       "4         Daily Mail Online  tacoma wash ap largest u tire manufacturers fa...  "
      ]
     },
     "execution_count": 11,
     "metadata": {},
     "output_type": "execute_result"
    }
   ],
   "source": [
    "news_df['clean_body'] = clean_body\n",
    "news_df.head(5)"
   ]
  },
  {
   "cell_type": "markdown",
   "metadata": {
    "id": "PDWLFVvtaRyQ"
   },
   "source": [
    "## Labelling the news category"
   ]
  },
  {
   "cell_type": "code",
   "execution_count": 12,
   "metadata": {
    "colab": {
     "base_uri": "https://localhost:8080/"
    },
    "executionInfo": {
     "elapsed": 345,
     "status": "ok",
     "timestamp": 1700151770580,
     "user": {
      "displayName": "A mo",
      "userId": "15201845855792456180"
     },
     "user_tz": 0
    },
    "id": "yTPAK1wSmib9",
    "outputId": "0aaeb39a-98c0-4d2d-d417-e8c5b2653281"
   },
   "outputs": [
    {
     "name": "stderr",
     "output_type": "stream",
     "text": [
      "/var/folders/y_/_4lmv2450t13fk_011cwcn3h0000gn/T/ipykernel_15047/368605046.py:23: SettingWithCopyWarning: \n",
      "A value is trying to be set on a copy of a slice from a DataFrame.\n",
      "Try using .loc[row_indexer,col_indexer] = value instead\n",
      "\n",
      "See the caveats in the documentation: https://pandas.pydata.org/pandas-docs/stable/user_guide/indexing.html#returning-a-view-versus-a-copy\n",
      "  news_ML_df['category'] = numeric_cat\n"
     ]
    }
   ],
   "source": [
    "from sklearn.preprocessing import LabelEncoder\n",
    "\n",
    "# Simplified dataframe for ML task\n",
    "news_ML_df = news_df[[\"clean_body\", \"category\"]]\n",
    "\n",
    "# Extract categories\n",
    "categories = news_ML_df['category']\n",
    "\n",
    "# Call encoder for labelling the numeric classification\n",
    "label_encoder = LabelEncoder()\n",
    "\n",
    "# Covert categort into numeric categories\n",
    "numeric_cat = label_encoder.fit_transform(categories)\n",
    "\n",
    "# Mapping original and numeric categories\n",
    "category_mapping = dict(zip(label_encoder.classes_,\n",
    "                            label_encoder.transform(label_encoder.classes_)))\n",
    "mapping_df = pd.DataFrame(list(category_mapping.items()),\n",
    "                          columns = ['original category',\n",
    "                                     'numeric category'])\n",
    "\n",
    "# Replacing the original category\n",
    "news_ML_df['category'] = numeric_cat"
   ]
  },
  {
   "cell_type": "code",
   "execution_count": 13,
   "metadata": {
    "colab": {
     "base_uri": "https://localhost:8080/"
    },
    "executionInfo": {
     "elapsed": 320,
     "status": "ok",
     "timestamp": 1700151775544,
     "user": {
      "displayName": "A mo",
      "userId": "15201845855792456180"
     },
     "user_tz": 0
    },
    "id": "pD0mCGJlrCCh",
    "outputId": "6fe90fdd-a679-4982-ac5a-221233a66400"
   },
   "outputs": [
    {
     "name": "stdout",
     "output_type": "stream",
     "text": [
      "Show the original categories and their cooresponding numeric value:\n",
      "\n",
      "  original category  numeric category\n",
      "0           economy                 0\n",
      "1       environment                 1\n",
      "2               law                 2\n",
      "3          politics                 3\n",
      "4        technology                 4\n"
     ]
    }
   ],
   "source": [
    "# show the mapping result of the category\n",
    "print('Show the original categories and their cooresponding numeric \\\n",
    "value:')\n",
    "print('')\n",
    "print(mapping_df)"
   ]
  },
  {
   "cell_type": "code",
   "execution_count": 14,
   "metadata": {
    "colab": {
     "base_uri": "https://localhost:8080/",
     "height": 140
    },
    "executionInfo": {
     "elapsed": 589,
     "status": "ok",
     "timestamp": 1700151779542,
     "user": {
      "displayName": "A mo",
      "userId": "15201845855792456180"
     },
     "user_tz": 0
    },
    "id": "b3wSLahvo8f3",
    "outputId": "5bbd1a17-2f2b-46ed-e106-67154a6b429b"
   },
   "outputs": [
    {
     "data": {
      "text/html": [
       "<div>\n",
       "<style scoped>\n",
       "    .dataframe tbody tr th:only-of-type {\n",
       "        vertical-align: middle;\n",
       "    }\n",
       "\n",
       "    .dataframe tbody tr th {\n",
       "        vertical-align: top;\n",
       "    }\n",
       "\n",
       "    .dataframe thead th {\n",
       "        text-align: right;\n",
       "    }\n",
       "</style>\n",
       "<table border=\"1\" class=\"dataframe\">\n",
       "  <thead>\n",
       "    <tr style=\"text-align: right;\">\n",
       "      <th></th>\n",
       "      <th>clean_body</th>\n",
       "      <th>category</th>\n",
       "    </tr>\n",
       "  </thead>\n",
       "  <tbody>\n",
       "    <tr>\n",
       "      <th>0</th>\n",
       "      <td>national administration financial regulation l...</td>\n",
       "      <td>0</td>\n",
       "    </tr>\n",
       "    <tr>\n",
       "      <th>1</th>\n",
       "      <td>ensure stability security decisive sectors xi ...</td>\n",
       "      <td>0</td>\n",
       "    </tr>\n",
       "    <tr>\n",
       "      <th>2</th>\n",
       "      <td>investor sentiment around china prospects rema...</td>\n",
       "      <td>0</td>\n",
       "    </tr>\n",
       "    <tr>\n",
       "      <th>3</th>\n",
       "      <td>new commission began operations last month par...</td>\n",
       "      <td>0</td>\n",
       "    </tr>\n",
       "    <tr>\n",
       "      <th>4</th>\n",
       "      <td>tacoma wash ap largest u tire manufacturers fa...</td>\n",
       "      <td>0</td>\n",
       "    </tr>\n",
       "  </tbody>\n",
       "</table>\n",
       "</div>"
      ],
      "text/plain": [
       "                                          clean_body  category\n",
       "0  national administration financial regulation l...         0\n",
       "1  ensure stability security decisive sectors xi ...         0\n",
       "2  investor sentiment around china prospects rema...         0\n",
       "3  new commission began operations last month par...         0\n",
       "4  tacoma wash ap largest u tire manufacturers fa...         0"
      ]
     },
     "execution_count": 14,
     "metadata": {},
     "output_type": "execute_result"
    }
   ],
   "source": [
    "# show the dataframe with numeric label for news category\n",
    "news_ML_df.head()"
   ]
  },
  {
   "cell_type": "markdown",
   "metadata": {
    "id": "FafiWa9vavb2"
   },
   "source": [
    "## Tokenization"
   ]
  },
  {
   "cell_type": "markdown",
   "metadata": {
    "id": "wV76hIkoZoJp"
   },
   "source": [
    "New \"tokenized_body\" column tokenize all the words from the column \"clean_body\"."
   ]
  },
  {
   "cell_type": "code",
   "execution_count": 15,
   "metadata": {
    "colab": {
     "base_uri": "https://localhost:8080/"
    },
    "executionInfo": {
     "elapsed": 55055,
     "status": "ok",
     "timestamp": 1700151847695,
     "user": {
      "displayName": "A mo",
      "userId": "15201845855792456180"
     },
     "user_tz": 0
    },
    "id": "q0ccDxJy0Q8y",
    "outputId": "60a45890-f7da-4125-8262-480d0111cec6"
   },
   "outputs": [
    {
     "name": "stderr",
     "output_type": "stream",
     "text": [
      "/var/folders/y_/_4lmv2450t13fk_011cwcn3h0000gn/T/ipykernel_15047/1567307585.py:9: SettingWithCopyWarning: \n",
      "A value is trying to be set on a copy of a slice from a DataFrame.\n",
      "Try using .loc[row_indexer,col_indexer] = value instead\n",
      "\n",
      "See the caveats in the documentation: https://pandas.pydata.org/pandas-docs/stable/user_guide/indexing.html#returning-a-view-versus-a-copy\n",
      "  news_ML_df['tokenized_body'] = news_ML_df['clean_body'].apply(word_tokenize)\n"
     ]
    }
   ],
   "source": [
    "# Tokenize the body\n",
    "import nltk\n",
    "from nltk.tokenize import word_tokenize\n",
    "from nltk.probability import FreqDist\n",
    "\n",
    "# nltk.download('punkt')\n",
    "\n",
    "# Tokenize the body\n",
    "news_ML_df['tokenized_body'] = news_ML_df['clean_body'].apply(word_tokenize)"
   ]
  },
  {
   "cell_type": "code",
   "execution_count": 16,
   "metadata": {
    "colab": {
     "base_uri": "https://localhost:8080/",
     "height": 140
    },
    "executionInfo": {
     "elapsed": 536,
     "status": "ok",
     "timestamp": 1700151851181,
     "user": {
      "displayName": "A mo",
      "userId": "15201845855792456180"
     },
     "user_tz": 0
    },
    "id": "n7wzAO_O40OU",
    "outputId": "2f34dfee-21f7-4998-e70a-b86cd51effa6"
   },
   "outputs": [
    {
     "data": {
      "text/html": [
       "<div>\n",
       "<style scoped>\n",
       "    .dataframe tbody tr th:only-of-type {\n",
       "        vertical-align: middle;\n",
       "    }\n",
       "\n",
       "    .dataframe tbody tr th {\n",
       "        vertical-align: top;\n",
       "    }\n",
       "\n",
       "    .dataframe thead th {\n",
       "        text-align: right;\n",
       "    }\n",
       "</style>\n",
       "<table border=\"1\" class=\"dataframe\">\n",
       "  <thead>\n",
       "    <tr style=\"text-align: right;\">\n",
       "      <th></th>\n",
       "      <th>clean_body</th>\n",
       "      <th>category</th>\n",
       "      <th>tokenized_body</th>\n",
       "    </tr>\n",
       "  </thead>\n",
       "  <tbody>\n",
       "    <tr>\n",
       "      <th>0</th>\n",
       "      <td>national administration financial regulation l...</td>\n",
       "      <td>0</td>\n",
       "      <td>[national, administration, financial, regulati...</td>\n",
       "    </tr>\n",
       "    <tr>\n",
       "      <th>1</th>\n",
       "      <td>ensure stability security decisive sectors xi ...</td>\n",
       "      <td>0</td>\n",
       "      <td>[ensure, stability, security, decisive, sector...</td>\n",
       "    </tr>\n",
       "    <tr>\n",
       "      <th>2</th>\n",
       "      <td>investor sentiment around china prospects rema...</td>\n",
       "      <td>0</td>\n",
       "      <td>[investor, sentiment, around, china, prospects...</td>\n",
       "    </tr>\n",
       "  </tbody>\n",
       "</table>\n",
       "</div>"
      ],
      "text/plain": [
       "                                          clean_body  category  \\\n",
       "0  national administration financial regulation l...         0   \n",
       "1  ensure stability security decisive sectors xi ...         0   \n",
       "2  investor sentiment around china prospects rema...         0   \n",
       "\n",
       "                                      tokenized_body  \n",
       "0  [national, administration, financial, regulati...  \n",
       "1  [ensure, stability, security, decisive, sector...  \n",
       "2  [investor, sentiment, around, china, prospects...  "
      ]
     },
     "execution_count": 16,
     "metadata": {},
     "output_type": "execute_result"
    }
   ],
   "source": [
    "# Show the new cols tokenized_body and freq_tokens\n",
    "news_ML_df.head(3)"
   ]
  },
  {
   "cell_type": "markdown",
   "metadata": {},
   "source": [
    "Then, it should remove \"[]\" for tokenized_body and freq_tokens"
   ]
  },
  {
   "cell_type": "code",
   "execution_count": 17,
   "metadata": {
    "colab": {
     "base_uri": "https://localhost:8080/"
    },
    "executionInfo": {
     "elapsed": 730,
     "status": "ok",
     "timestamp": 1700151855758,
     "user": {
      "displayName": "A mo",
      "userId": "15201845855792456180"
     },
     "user_tz": 0
    },
    "id": "zkBrY35VZFzF",
    "outputId": "b8b87b62-772f-4e20-f611-ab41619c2746"
   },
   "outputs": [
    {
     "name": "stderr",
     "output_type": "stream",
     "text": [
      "/var/folders/y_/_4lmv2450t13fk_011cwcn3h0000gn/T/ipykernel_15047/3582925525.py:2: SettingWithCopyWarning: \n",
      "A value is trying to be set on a copy of a slice from a DataFrame.\n",
      "Try using .loc[row_indexer,col_indexer] = value instead\n",
      "\n",
      "See the caveats in the documentation: https://pandas.pydata.org/pandas-docs/stable/user_guide/indexing.html#returning-a-view-versus-a-copy\n",
      "  tokenized_df[\"tokenized_body\"] = tokenized_df['tokenized_body'].apply(' '.join)\n"
     ]
    }
   ],
   "source": [
    "tokenized_df = news_ML_df[[\"tokenized_body\",\"category\"]]\n",
    "tokenized_df[\"tokenized_body\"] = tokenized_df['tokenized_body'].apply(' '.join)"
   ]
  },
  {
   "cell_type": "markdown",
   "metadata": {},
   "source": [
    "Show the columns after removing \"[]\": "
   ]
  },
  {
   "cell_type": "code",
   "execution_count": 18,
   "metadata": {},
   "outputs": [
    {
     "data": {
      "text/plain": [
       "0        national administration financial regulation l...\n",
       "1        ensure stability security decisive sectors xi ...\n",
       "2        investor sentiment around china prospects rema...\n",
       "3        new commission began operations last month par...\n",
       "4        tacoma wash ap largest u tire manufacturers fa...\n",
       "                               ...                        \n",
       "13578    woman revealed ordered pair clip veneers temu ...\n",
       "13579    billionaire makes emotional decision return ch...\n",
       "13580    take glance around airport baggage claim clear...\n",
       "13581    nov reuters inpost core earnings surged third ...\n",
       "13582    terrifying grim reapers garish pumpkin heads s...\n",
       "Name: tokenized_body, Length: 13583, dtype: object"
      ]
     },
     "execution_count": 18,
     "metadata": {},
     "output_type": "execute_result"
    }
   ],
   "source": [
    "tokenized_df[\"tokenized_body\"]"
   ]
  },
  {
   "cell_type": "code",
   "execution_count": 19,
   "metadata": {
    "colab": {
     "base_uri": "https://localhost:8080/",
     "height": 201
    },
    "executionInfo": {
     "elapsed": 292,
     "status": "ok",
     "timestamp": 1700151858518,
     "user": {
      "displayName": "A mo",
      "userId": "15201845855792456180"
     },
     "user_tz": 0
    },
    "id": "Bb4iOjGzZYPs",
    "outputId": "911534ad-f13a-490c-dd47-588e6bd27004"
   },
   "outputs": [
    {
     "data": {
      "text/html": [
       "<div>\n",
       "<style scoped>\n",
       "    .dataframe tbody tr th:only-of-type {\n",
       "        vertical-align: middle;\n",
       "    }\n",
       "\n",
       "    .dataframe tbody tr th {\n",
       "        vertical-align: top;\n",
       "    }\n",
       "\n",
       "    .dataframe thead th {\n",
       "        text-align: right;\n",
       "    }\n",
       "</style>\n",
       "<table border=\"1\" class=\"dataframe\">\n",
       "  <thead>\n",
       "    <tr style=\"text-align: right;\">\n",
       "      <th></th>\n",
       "      <th>tokenized_body</th>\n",
       "      <th>category</th>\n",
       "    </tr>\n",
       "  </thead>\n",
       "  <tbody>\n",
       "    <tr>\n",
       "      <th>0</th>\n",
       "      <td>national administration financial regulation l...</td>\n",
       "      <td>0</td>\n",
       "    </tr>\n",
       "    <tr>\n",
       "      <th>1</th>\n",
       "      <td>ensure stability security decisive sectors xi ...</td>\n",
       "      <td>0</td>\n",
       "    </tr>\n",
       "    <tr>\n",
       "      <th>2</th>\n",
       "      <td>investor sentiment around china prospects rema...</td>\n",
       "      <td>0</td>\n",
       "    </tr>\n",
       "    <tr>\n",
       "      <th>3</th>\n",
       "      <td>new commission began operations last month par...</td>\n",
       "      <td>0</td>\n",
       "    </tr>\n",
       "    <tr>\n",
       "      <th>4</th>\n",
       "      <td>tacoma wash ap largest u tire manufacturers fa...</td>\n",
       "      <td>0</td>\n",
       "    </tr>\n",
       "  </tbody>\n",
       "</table>\n",
       "</div>"
      ],
      "text/plain": [
       "                                      tokenized_body  category\n",
       "0  national administration financial regulation l...         0\n",
       "1  ensure stability security decisive sectors xi ...         0\n",
       "2  investor sentiment around china prospects rema...         0\n",
       "3  new commission began operations last month par...         0\n",
       "4  tacoma wash ap largest u tire manufacturers fa...         0"
      ]
     },
     "execution_count": 19,
     "metadata": {},
     "output_type": "execute_result"
    }
   ],
   "source": [
    "# Displayed the tokenized dataframe \n",
    "tokenized_df.head()"
   ]
  },
  {
   "cell_type": "markdown",
   "metadata": {},
   "source": [
    "# Split the data: Training and Testing dataset"
   ]
  },
  {
   "cell_type": "code",
   "execution_count": 20,
   "metadata": {},
   "outputs": [],
   "source": [
    "# Getting the training and label data\n",
    "X = tokenized_df[\"tokenized_body\"]\n",
    "y = tokenized_df[\"category\"]"
   ]
  },
  {
   "cell_type": "code",
   "execution_count": 21,
   "metadata": {},
   "outputs": [],
   "source": [
    "from sklearn.model_selection import train_test_split\n",
    "X_train, X_test, y_train, y_test = \\\n",
    "train_test_split(X, y, test_size = 0.30, random_state = 90)"
   ]
  },
  {
   "cell_type": "markdown",
   "metadata": {},
   "source": [
    "Show the datasets shape after splitting:"
   ]
  },
  {
   "cell_type": "code",
   "execution_count": 22,
   "metadata": {},
   "outputs": [
    {
     "name": "stdout",
     "output_type": "stream",
     "text": [
      "(9508,)\n"
     ]
    }
   ],
   "source": [
    "print(X_train.shape)"
   ]
  },
  {
   "cell_type": "code",
   "execution_count": 23,
   "metadata": {},
   "outputs": [
    {
     "name": "stdout",
     "output_type": "stream",
     "text": [
      "(4075,)\n"
     ]
    }
   ],
   "source": [
    "print(X_test.shape)"
   ]
  },
  {
   "cell_type": "markdown",
   "metadata": {
    "id": "86xzEYxYyS1B",
    "tags": []
   },
   "source": [
    "# Training the Classifier"
   ]
  },
  {
   "cell_type": "markdown",
   "metadata": {
    "id": "rfps3INO37bh"
   },
   "source": [
    "## TF-IDF Vectorizer"
   ]
  },
  {
   "cell_type": "markdown",
   "metadata": {},
   "source": [
    "TF-IDF, known as Term Frequency - Inverse Document Frequency, is a combination of two technique. \"Term Frequency\" focuses on how common the word appears and give importance to frequent words. \"Inverse Document Frequency\" focuses on rarity of words."
   ]
  },
  {
   "cell_type": "markdown",
   "metadata": {
    "tags": []
   },
   "source": [
    "## Logistic Regression classifier"
   ]
  },
  {
   "cell_type": "code",
   "execution_count": 24,
   "metadata": {
    "executionInfo": {
     "elapsed": 15235,
     "status": "ok",
     "timestamp": 1700151901238,
     "user": {
      "displayName": "A mo",
      "userId": "15201845855792456180"
     },
     "user_tz": 0
    },
    "id": "ykel9OX92DTs"
   },
   "outputs": [
    {
     "data": {
      "text/plain": [
       "Pipeline(steps=[('tfidf', TfidfVectorizer()),\n",
       "                ('clf', LogisticRegression(max_iter=1000))])"
      ]
     },
     "execution_count": 24,
     "metadata": {},
     "output_type": "execute_result"
    }
   ],
   "source": [
    "from sklearn.feature_extraction.text import TfidfVectorizer\n",
    "from sklearn.linear_model import LogisticRegression\n",
    "from sklearn.pipeline import Pipeline\n",
    "\n",
    "# pipeline for data processing\n",
    "# max_iteration = num of iteration before solvers converged\n",
    "lr_model = Pipeline([('tfidf', TfidfVectorizer()),\n",
    "              ('clf', LogisticRegression(max_iter = 1000)),\n",
    "              ])\n",
    "\n",
    "# Train the logistic Regression model\n",
    "lr_model.fit(X_train, y_train)"
   ]
  },
  {
   "cell_type": "code",
   "execution_count": 25,
   "metadata": {
    "id": "Icaq1Ufi6EMa"
   },
   "outputs": [],
   "source": [
    "# Make predictions on the test set\n",
    "lr_train_preds = lr_model.predict(X_train)\n",
    "lr_test_preds = lr_model.predict(X_test)"
   ]
  },
  {
   "cell_type": "code",
   "execution_count": 26,
   "metadata": {
    "id": "3-1L811F6OoM"
   },
   "outputs": [
    {
     "name": "stdout",
     "output_type": "stream",
     "text": [
      "Training accuracy: 0.954669751787968\n",
      "Test accuracy: 0.9114110429447853\n",
      "Precision_score: 0.9546203154464444\n",
      "F1 score: 0.9545113196174467\n"
     ]
    }
   ],
   "source": [
    "from sklearn.metrics import accuracy_score, precision_score, f1_score\n",
    "\n",
    "lr_train_accuracy = accuracy_score(y_train, lr_train_preds)\n",
    "lr_test_accuracy = accuracy_score(y_test, lr_test_preds)\n",
    "lr_precision = precision_score(y_train, lr_train_preds, average = 'weighted')\n",
    "lr_f1_score = f1_score(y_train, lr_train_preds, average = 'weighted')\n",
    "\n",
    "# Calculate the accuracy of the model\n",
    "print(f\"Training accuracy: {lr_train_accuracy}\")\n",
    "print(f\"Test accuracy: {lr_test_accuracy}\")\n",
    "print(f\"Precision_score: {lr_precision}\")\n",
    "print(f\"F1 score: {lr_f1_score}\")"
   ]
  },
  {
   "cell_type": "markdown",
   "metadata": {},
   "source": [
    "Comment: Good performance on training the model precdiction accuracy and generalise the prediction to unseen data. Class prediction is precised,the model accuracy is high."
   ]
  },
  {
   "cell_type": "code",
   "execution_count": 27,
   "metadata": {},
   "outputs": [
    {
     "name": "stdout",
     "output_type": "stream",
     "text": [
      "lr_classification_report:\n",
      "               precision    recall  f1-score   support\n",
      "\n",
      "           0       0.89      0.93      0.91      1545\n",
      "           1       0.91      0.84      0.88       217\n",
      "           2       0.90      0.78      0.84       263\n",
      "           3       0.95      0.95      0.95      1261\n",
      "           4       0.90      0.86      0.88       789\n",
      "\n",
      "    accuracy                           0.91      4075\n",
      "   macro avg       0.91      0.87      0.89      4075\n",
      "weighted avg       0.91      0.91      0.91      4075\n",
      "\n"
     ]
    }
   ],
   "source": [
    "from sklearn.metrics import classification_report\n",
    "\n",
    "lr_classification_report = classification_report(y_test, lr_test_preds)\n",
    "\n",
    "print(\"lr_classification_report:\\n\", lr_classification_report)"
   ]
  },
  {
   "cell_type": "markdown",
   "metadata": {},
   "source": [
    "Comment: Overall, good performance for all categories classification."
   ]
  },
  {
   "cell_type": "code",
   "execution_count": 28,
   "metadata": {},
   "outputs": [],
   "source": [
    "import numpy as np\n",
    "import matplotlib.pyplot as plt\n",
    "import warnings\n",
    "from sklearn.model_selection import learning_curve\n",
    "\n",
    "def plot_cv(model = None, cv_num = None):\n",
    "\n",
    "    # Cross validation\n",
    "    train_sizes, train_scores, test_scores = learning_curve(\n",
    "        model, X, y, cv=cv_num, scoring='accuracy', train_sizes=np.linspace(0.1, 1.0, 10)\n",
    "    )\n",
    "\n",
    "    # Plot\n",
    "    plt.plot(train_sizes, np.mean(train_scores, axis=1), label='Training Accuracy')\n",
    "    plt.plot(train_sizes, np.mean(test_scores, axis=1), label='Validation Accuracy')\n",
    "    plt.xlabel('Training Set Size')\n",
    "    plt.ylabel('Accuracy')\n",
    "    plt.legend()\n",
    "    \n",
    "    return plt"
   ]
  },
  {
   "cell_type": "code",
   "execution_count": 89,
   "metadata": {},
   "outputs": [
    {
     "data": {
      "image/png": "[encoded data removed]",
      "text/plain": [
       "<Figure size 432x288 with 1 Axes>"
      ]
     },
     "metadata": {
      "needs_background": "light"
     },
     "output_type": "display_data"
    }
   ],
   "source": [
    "from sklearn.exceptions import FitFailedWarning\n",
    "\n",
    "# Filter warnings to ignore FitFailedWarning\n",
    "warnings.filterwarnings(\"ignore\", category=FitFailedWarning)\n",
    "\n",
    "# Visualise the cross validation\n",
    "lr_CVplot = plot_cv(model = lr_model, cv_num = 5)\n",
    "\n",
    "# Reset the warnings to their default behavior\n",
    "warnings.resetwarnings()"
   ]
  },
  {
   "cell_type": "markdown",
   "metadata": {},
   "source": [
    "Comment: No overfitting and underfitting issue."
   ]
  },
  {
   "cell_type": "markdown",
   "metadata": {},
   "source": [
    "Next, it attempts to deploy the model to predict the news."
   ]
  },
  {
   "cell_type": "code",
   "execution_count": 29,
   "metadata": {},
   "outputs": [],
   "source": [
    "from collections import Counter\n",
    "from collections import Counter\n",
    "import numpy as np\n",
    "\n",
    "def predict_news_category(predicted):\n",
    "    # Set up the category mapping\n",
    "    cat_mapping = {0: 'economy', 1: 'environment', \n",
    "                   2: 'law', 3: 'politics', \n",
    "                   4: 'technology'}\n",
    "    \n",
    "    # Convert NumPy array to a Python list\n",
    "    predicted_list = predicted.tolist() if isinstance(predicted, np.ndarray) else predicted\n",
    "    \n",
    "    # Condition 1: predicted is a single value\n",
    "    if not isinstance(predicted_list, list):\n",
    "        predicted_list = [predicted_list]\n",
    "    \n",
    "    # Flatten the list if it's a list of lists\n",
    "    if all(isinstance(i, list) for i in predicted_list):\n",
    "        predicted_list = [item for sublist in predicted_list for item in sublist]\n",
    "    \n",
    "    # Condition 2: predicted is not a single value, find mode\n",
    "    counter = Counter(predicted_list)\n",
    "    max_count = max(counter.values())\n",
    "    modes = [num for num, freq in counter.items() if freq == max_count]\n",
    "    \n",
    "    # Map the mode from condition 2 to category names\n",
    "    predicted_cat = [cat_mapping[label] for label in modes]\n",
    "\n",
    "    return predicted_cat"
   ]
  },
  {
   "cell_type": "code",
   "execution_count": 30,
   "metadata": {},
   "outputs": [],
   "source": [
    "bbc_econ_news = [\"Britain’s stuttering economy will be stuck in the growth slow lane for the next three years as inflation and interest rates stay higher for longer than previously forecast.\\\n",
    "Latest forecasts from the Government’s economic watchdog, the Office for Budget Responsibility (OBR), released to coincide with the Autumn Statement, show projections for GDP growth have been slashed out as far as 2027.\\\n",
    "Although growth this year is expected to advance 0.6%, faster than the 0.2% expected at the time of the Budget in March, forecasts for subsequent years have been hacked back, although the OBR does not foresee any threat of a recession.\\\n",
    "Next year will see GDP advance by a feeble 0.7%, compared with a projected 1.8% in March. The following year also has growth forecasts downgraded by 1.1%, from 2.5% to 1.1%.\\\n",
    "By 2026 it has accelerated to 2%, little different to the 2.1% at the time of the Budget, and in 2027 the OBR expects a further 2% GDP boost.\\\n",
    "The OBR said that the revisions to its forecasts meant “in our central forecast, the level of real GDP in 2027 is only 0.6 per cent higher than March.”\\\n",
    "Its Economic and Fiscal Outlook report adds: “Squeezed real wages, higher interest rates, and unwinding government support all weigh on economic activity, opening up a moderate degree of spare capacity over the next three years.”\\\n",
    "However, stronger than expected demand this year means that the inflation spike is expected to subside less quickly than previously hoped The OBR now warns that inflation is expected “to remain higher for longer, taking until the second quarter of 2025 to return to the 2 per cent target, more than a year later than forecast in March.”\\\n",
    "As a result of the persistent inflation the Bank of England will only be able to lower interest rates slowly from their current level of 5.25, according to the OBR. It points out that “markets now expect Bank Rate to settle at 4 per cent by the end of the forecast, rather than fall to 3 per cent as we assumed in March.\"]"
   ]
  },
  {
   "cell_type": "code",
   "execution_count": 31,
   "metadata": {},
   "outputs": [
    {
     "name": "stdout",
     "output_type": "stream",
     "text": [
      "['economy']\n"
     ]
    }
   ],
   "source": [
    "# Predict the econ news, cat 0\n",
    "lr_pred_econ = lr_model.predict(bbc_econ_news)\n",
    "print(predict_news_category(lr_pred_econ))"
   ]
  },
  {
   "cell_type": "code",
   "execution_count": 32,
   "metadata": {},
   "outputs": [],
   "source": [
    "bbc_env_news = [\"The world is breaching a key warming threshold at a rate that has scientists concerned, a BBC analysis has found. On about a third of days in 2023, the average global temperature was at least 1.5C higher than pre-industrial levels. Staying below that marker long-term is widely considered crucial to avoid the most damaging impacts of climate change.\\\n",
    "But 2023 is on track to be the hottest year on record, and 2024 could be hotter. It is a sign that we are reaching levels we haven not been before, says Dr Melissa Lazenby, from the University of Sussex. This latest finding comes after record September temperatures and a summer of extreme weather events across much of the world. Climate change played major role in Libya floods\\\n",
    "Antarctic ice at mind-blowing low alarms experts UN calls for radical changes to slow warming When political leaders gathered in Paris in December 2015, they signed an agreement to keep the long-term rise in global temperatures this century well below 2C and to make every effort to keep it under 1.5C.\\\n",
    "The agreed limits refer to the difference between global average temperatures now and what they were in the pre-industrial period, between 1850 and 1900 - before the widespread use of fossil fuels.\\\n",
    "Breaching these Paris thresholds does not mean going over them for a day or a week but instead involves going beyond this limit across a 20 or 30-year average\\\n",
    "This long-term average warming figure currently sits at around 1.1C to 1.2C.\\\n",
    "But the more often 1.5C is breached for individual days, the closer the world gets to breaching this mark in the longer term.\\\n",
    "The first time this happened in the modern era was for a few days in December 2015, when politicians were signing the deal on the 1.5C threshold. Since then the limit has been repeatedly broken, typically only for short periods\\\n",
    "In 2016, influenced by a strong El Niño event - a natural climate shift that tends to increase global temperatures - the world saw around 75 days that went above that mark.\\\n",
    "But BBC analysis of data from the Copernicus Climate Change Service shows that, up to 2 October, around 86 days in 2023 have been over 1.5C warmer than the pre-industrial average. That beats the 2016 record well before the end of the year.\\\n",
    "There is some uncertainty in the exact number of days that have breached the 1.5C threshold, because the numbers reflect a global average which can come with small data discrepancies. But the margin by which 2023 has already passed 2016 figures gives confidence the record has already been broken.\\\n",
    "The fact that we are reaching this 1.5C anomaly daily, and for a longer number of days, is concerning, said Dr Lazenby. One important factor in driving up these temperature anomalies is the onset of El Niño conditions. This was confirmed just a few months ago - although it is still weaker than its 2016 peak.\\\n",
    "These conditions are helping to pump heat from the eastern Pacific Ocean into the atmosphere. This may explain why 2023 is the first year in which the 1.5C anomaly has been recorded between June and October - when combined with the long-term warming from burning fossil fuels.\\\n",
    "A really simple guide to climate change Four ways climate change affects the weather What is El Niño, and how does it change the weather? This is the first time we are seeing this in the northern hemisphere summer, which is unusual, its pretty shocking to see what been going on, said Prof Ed Hawkins, from the University of Reading.\\\n",
    "I know our Australian colleagues are particularly worried about what is going to be the consequences for them with their summer approaching [for instance extreme wildfires], especially with El Niño. Days when the temperature difference has exceeded 1.5C continued into September, with some more than 1.8C above the pre-industrial average.\\\n",
    "The month as a whole was 1.75C above the pre-industrial level, and the year to date is around 1.4C above the 1850-1900 average, according to the Copernicus Climate Change Service. While 2023 is on track to become the warmest year on record, it is not expected to breach the 1.5C warming threshold as a global average across the full 12 months.\\\n",
    "Contributing factors The worlds oceans have also been experiencing unusually high temperatures this year and in turn, releasing further heat into the atmosphere. The North Atlantic Ocean is the warmest we ever recorded, and if you look at the North Pacific Ocean, there is a tongue of anomalously warm water stretching all the way from Japan to California, said Dr Jennifer Francis from the Woodwell Climate Research Centre in the US.\\\n",
    "While greenhouse gas emissions are increasing average temperatures, the precise reasons for why these sea temperatures have surged is not fully known. One theory - which is still uncertain - is that a fall in air pollution from shipping across the North Atlantic has reduced the number of small particles and increased warming. Up until now, these aerosols had been partly offsetting the effect of greenhouse gas emissions by reflecting some of the sun energy and keeping the Earth surface cooler than it would have been otherwise.\\\n",
    "Another perhaps less well-known factor is the situation around Antarctica. There have been ongoing concerns about the state of sea ice around the coldest continent, with data showing the levels far below any previous winter.\\\n",
    "But according to some experts, two spikes in temperature in recent months in Antarctica - triggered by natural variability - have boosted the global average. However, it is difficult to identify the precise influence of long-term human-caused warming.\\\n",
    "In early July, Antarctica got really warm, they saw record temperatures, which is still 20 or 30 degrees Celsius below zero, said Dr Karsten Haustein, from the University of Leipzig. And what we see with 1.5C and 1.8C anomalies we are seeing now, it is partially down to Antarctica again.\"]"
   ]
  },
  {
   "cell_type": "code",
   "execution_count": 33,
   "metadata": {},
   "outputs": [
    {
     "name": "stdout",
     "output_type": "stream",
     "text": [
      "['environment']\n"
     ]
    }
   ],
   "source": [
    "# Predict the envriomental news, cat 1\n",
    "lr_pred_env = lr_model.predict(bbc_env_news)\n",
    "print(predict_news_category(lr_pred_env))"
   ]
  },
  {
   "cell_type": "code",
   "execution_count": 34,
   "metadata": {},
   "outputs": [],
   "source": [
    "law_news = [\"Oil giant Shell could be sued in London by 13,000 Nigerian fishermen and farmers for allegedly violating their right to a clean environment under Nigerian law, the High Court has ruled.\\\n",
    "The multinational company is facing group litigation arising out of oil contamination, including both in the ground and in water, affecting two distinct areas in the Niger Delta – the Bille and Ogale regions.\\\n",
    "It is alleged that Shell failed to prevent, mitigate or remediate oil contamination resulting from spills and thefts from Shell’s pipelines and associated infrastructure operated in or near to the two regions.\\\n",
    "The court heard that Nigerian law recognises as a fundamental right the right to a clean and healthy environment, something the claimants rely upon. However Shaheed Fatima KC, for Shell, argued these constitutional claims had no real prospect of success as a matter of Nigerian law. Such claims cannot be brought against private companies, she said, and claims in respect of pollution damage fall outside the limited scope of the rights invoked by the claimants under the African Charter and Nigerian Constitution.\\\n",
    "But Mrs Justice May ruled on Wednesday that the constitutional claims were ‘arguable’. She added: ‘As sensible and logical as Ms Fatima’s elucidation of the Nigerian legal position appeared to me to be, based on the authorities to which she directed me, it is subject to this important reservation: Ms Fatima is not a Nigerian law expert and neither am I.’\\\n",
    "She continued: 'What she says about the likely impact of those decisions on the constitutional claims as pleaded here may be right, however in the absence of evidence of Nigerian law I am not prepared to apply the ancillary point as she has interpreted it so as to rule the claims devoid of any real prospect of success at this stage.'\\\n",
    "The judge said any issue of Nigerian law would have to be resolved by factual evidence from expert Nigerian lawyers.\"]"
   ]
  },
  {
   "cell_type": "code",
   "execution_count": 35,
   "metadata": {},
   "outputs": [
    {
     "name": "stdout",
     "output_type": "stream",
     "text": [
      "['law']\n"
     ]
    }
   ],
   "source": [
    "# Predict the law news, cat 2\n",
    "lr_pred_law = lr_model.predict(law_news)\n",
    "print(predict_news_category(lr_pred_law))"
   ]
  },
  {
   "cell_type": "code",
   "execution_count": 36,
   "metadata": {},
   "outputs": [],
   "source": [
    "bbc_pol_news = [\"Chancellor Jeremy Hunt has said most working-age benefits will rise by 6.7%, \\\n",
    "as he outlined plans to limit welfare access to the long-term jobless. Mr Hunt increased benefits \\\n",
    "in line with September inflation rate, ending speculation of a less generous offer. But he said it \\\n",
    "was wrong that thousands of people were on benefits with no requirement to look for work. He said \\\n",
    "reforms including stricter fit-to-work tests and jobseeker support would get 200,000 more people in work.\\\n",
    "He described the package as the biggest set of welfare reforms in a decade in his second Autumn Statement \\\n",
    "as chancellor on Wednesday. But disability rights groups criticised the move, with Scope describing the \\\n",
    "chancellor statement as a disastrous plan that demonises disabled people. The changes are part of the UK \\\n",
    "government £2.5bn back-to-work plan, which is aiming to get more long-term jobless people and those with \\\n",
    "health conditions and disabilities to look for employment. In recent months, Mr Hunt, Prime Minister Rishi \\\n",
    "Sunak and Mel Stride, the work and pensions secretary, have spoken of their desire to get more people off \\\n",
    "benefits and into work. Since the pandemic, the number of people out of work because of long-term sickness \\\n",
    "or disability has risen to a record high of 2.6 million, with mental health and heart disease among some of \\\n",
    "the main causes. Under its plans, the government wants to scrap the controversial Work Capability Assessment,\\\n",
    "which is used to determine if people can receive additional benefits payments because of a health condition \\\n",
    "or disability. At the moment, eligible claimants can receive £390 a month (£4,681 per year) on top of other\\\n",
    "benefits payments. Due to be introduced from 2025, the changes mean hundreds of thousands of people with \\\n",
    "mobility and mental-health problems will be told to look for work they can do from home.\\\n",
    "We will reform the work capability assessment to reflect greater flexibility and availability of home working\\\n",
    "after the pandemic, Mr Hunt said. And we will spend £1.3bn over the next five years to help nearly 700,000 \\\n",
    "people with health conditions find jobs. In her response to Mr Hunts speech, shadow chancellor Rachel Reeves \\\n",
    "said Work Capability Assessments were discouraging people from seeking work and argued it was right to \\\n",
    "replace them. But she said the government was failing to face up to the problem of long NHS waiting lists \\\n",
    "leaving people out of work in the long term. Green co-leader Carla Denyer said the Autumn Statement would \\\n",
    "not protect people from the harm caused by the cost-of-living crisis. This was a particularly cruel \\\n",
    "statement for the long-term sick and some disabled people who will now be forced into work or lose \\\n",
    "their benefits, she said. James Taylor, director of strategy at disability equality charity Scope, \\\n",
    "said the Autumn Statement was a missed opportunity to set out how disabled people can thrive. \\\n",
    "Instead, now many will be thinking how they will survive, he said. Dr Sarah Hughes, chief executive \\\n",
    "of the mental health charity Mind, called the Autumn Statement a backwards step for the UK, which \\\n",
    "people with mental health problems will feel sharply. Changes to the way people are assessed to be \\\n",
    "well enough to work are brazenly motivated by a desire to save money, driven by baseless assumptions \\\n",
    "about disabled people and hugely stigmatising, Dr Hughes said. Tougher sanctions\\\n",
    "In its economic forecast, the Office for Budget Responsibility (OBR) said the government welfare reforms\\\n",
    "would increase employment by about 50,000 over the next five years.\\\n",
    "This will lead to a small positive impact of 0.04% on gross domestic product (GDP) as entrants are likely\\\n",
    "to join on lower than average hours and earnings, according to the OBR.\\\n",
    "Mr Hunt said the OBR projected the reforms would more than halve the net flow of people who are signed off\\\n",
    "work with no work search requirements. There will also be £1.3bn of funding to offer extra help to 300,000\\\n",
    "people who have been unemployed for more than a year. Benefit claimants who fail to find work for more than\\\n",
    "18 months will have to do a work experience placement. Stricter penalties will also apply to long-term\\\n",
    "unemployed people who the government decide are not adequately looking for jobs.\"]"
   ]
  },
  {
   "cell_type": "code",
   "execution_count": 37,
   "metadata": {},
   "outputs": [
    {
     "name": "stdout",
     "output_type": "stream",
     "text": [
      "['politics']\n"
     ]
    }
   ],
   "source": [
    "# Predict the politics news, cat 3\n",
    "lr_pred_pol = lr_model.predict(bbc_pol_news)\n",
    "print(predict_news_category(lr_pred_pol))"
   ]
  },
  {
   "cell_type": "code",
   "execution_count": 38,
   "metadata": {},
   "outputs": [],
   "source": [
    "bbc_tech_news = [\"picture a boardroom battle at a multi-billion-dollar company whose futuristic tech might either save or destroy the world. Its chief executive, who has the ear of world leaders, toppled as senior colleagues turn on him - only for the rest of the company to demand they themselves should be fired. No, that is not my pitch for a Netflix drama, that is basically been the past few days at OpenAI.\\\n",
    "Tech journalists, enthusiasts and investors have been binge-watching it all unfold - though opinions differ as to whether it was a high-stakes thriller or a farce. How it started... The battle at the top of OpenAI, the creator of the AI chatbot ChatGPT, began very suddenly on Friday, when the board of directors announced that it was firing the co-founder and chief executive, Sam Altman. In a blog post the board accused Mr Altman of not being consistently candid in his communications, and said as a result they had lost confidence in his leadership.\\\n",
    "There are only six people on that board - and two of them were Sam Altman and his co-founder Greg Brockman who quit after Mr Altman was dismissed. So four people who knew Mr Altman and the business well reached a breaking point of such seriousness that they sprung into action immediately, blindsiding the entire tech community including, reportedly, their own investors.\\\n",
    "Elon Musk - also an original co-founder at OpenAI - wrote on X, formerly Twitter, that he was very worried. Ilya Sutskever, the firm chief scientist, was a member of that board and would not take such drastic action unless he felt it was absolutely necessary, he wrote. Mr Sutskever has now expressed his own regret - and is one of the many signatories of a dynamite letter to the board of directors, calling for Mr Altman and Mr Brockman to return and suggesting they may leave OpenAI if the men are not reinstated.\\\n",
    "Skip twitter post by Ilya Sutskever What caused this row So what was it that sparked this rapidly rolling snowball? We actually still dont know - but lets consider some options. There are reports that Mr Altman was considering some hardware projects, including the funding and development of an AI chip, which would have been quite a different direction in which to take OpenAI. Had he made some commitments that the board was not aware of?\\\n",
    "Or could it boil down to a very old, and very human tension: money? In an internal memo, whose contents have been widely reported, the board made it clear that it was not accusing Mr Altman of any financial malfeasance. But we know that OpenAI was founded as a non-profit organisation. That means, a company which does not aim to make money. It takes back enough of what it brings in to cover its own running costs - and any extra gets invested back into the business. Most charities are non-profits.\\\n",
    "In 2019, a new arm of the firm was formed - and this part of it was profit-orientated. The firm set out how the two would co-exist. The profit side would be led by the non-profit side, and there would be a cap imposed on the returns investors could earn. Not everybody was happy about it - it was said to have been a key reason behind Elon Musks decision to walk away from the firm. OpenAI, however, now finds itself in the happy circumstance of being worth an awful lot of money. A staff stock sale, which has not gone ahead today, was reportedly valued at $86bn (£68bn).\\\n",
    "Could it be that there were ambitions to make the for-profit side of the business more powerful? OpenAI is in pursuit of AGI - artificial general intelligence. It does not exist yet, and it is a cause of both fear and awe. It is basically the idea that there will one day be AI tools that will be able to do a number of tasks, as well as, or better than, humans (thats us) currently can. It is got the potential to shift the entire way in which we do things. Jobs, money, education - all of that gets thrown up in the air when machines can do stuff instead. It is an incredibly powerful bit of kit - or at least, it will be.\\\n",
    "Is OpenAI closer to that than we realise, and does Mr Altman know this? At a very recent speech he said what was coming next year would make the current ChatGPT bot look like a quaint relative. I think it is unlikely. Emmett Shear, the new interim chief executive of OpenAI, posted on X that the board did *not* remove Sam over any specific disagreement on safety. He says there will be an investigation into what happened.\\\n",
    "But Microsoft, OpenAI biggest investor, has decided not to take a chance on Mr Altman taking this tech elsewhere. He will be joining the Seattle-based tech giant, it has been announced, to lead a yet-to-be-created AI research team. His co-founder Greg Brockman goes with him, and judging from the number of staff members posting on X today, it looks like hell be taking some of OpenAI top talent too. Many OpenAI staff members are sharing the same post on X. It reads: OpenAI is nothing without its people.\\\n",
    "Is that a warning to Mr Shear that he might have some hiring to do? A BBC colleague outside OpenAI headquarters just told me at 0930 in San Francisco, there were no signs of people arriving for work. Or is it just a reminder that for all this saga has been about a form of technology that is reshaping the world, it is, at its heart, a very human drama.\"]"
   ]
  },
  {
   "cell_type": "code",
   "execution_count": 39,
   "metadata": {},
   "outputs": [
    {
     "name": "stdout",
     "output_type": "stream",
     "text": [
      "['technology']\n"
     ]
    }
   ],
   "source": [
    "# Predict the technology news, cat 4\n",
    "lr_pred_tech = lr_model.predict(bbc_tech_news)\n",
    "print(predict_news_category(lr_pred_tech))"
   ]
  },
  {
   "cell_type": "markdown",
   "metadata": {},
   "source": [
    "## Random Forest Classifer"
   ]
  },
  {
   "cell_type": "code",
   "execution_count": 40,
   "metadata": {},
   "outputs": [
    {
     "data": {
      "text/plain": [
       "Pipeline(steps=[('tfidf', TfidfVectorizer()),\n",
       "                ('clf', RandomForestClassifier())])"
      ]
     },
     "execution_count": 40,
     "metadata": {},
     "output_type": "execute_result"
    }
   ],
   "source": [
    "from sklearn.feature_extraction.text import TfidfVectorizer\n",
    "from sklearn.ensemble import RandomForestClassifier\n",
    "from sklearn.pipeline import Pipeline\n",
    "\n",
    "# pipeline for data processing\n",
    "rf_model = Pipeline([('tfidf', TfidfVectorizer()),\n",
    "              ('clf', RandomForestClassifier()),\n",
    "              ])\n",
    "\n",
    "# Train the logistic Regression model\n",
    "rf_model.fit(X_train, y_train)"
   ]
  },
  {
   "cell_type": "code",
   "execution_count": 41,
   "metadata": {},
   "outputs": [],
   "source": [
    "# Make predictions on the test set\n",
    "rf_train_preds = rf_model.predict(X_train)\n",
    "rf_test_preds = rf_model.predict(X_test)"
   ]
  },
  {
   "cell_type": "code",
   "execution_count": 42,
   "metadata": {},
   "outputs": [
    {
     "name": "stdout",
     "output_type": "stream",
     "text": [
      "Training accuracy: 0.9822254943205722\n",
      "Test accuracy: 0.8952147239263804\n",
      "Precision score: 0.9822094637726138\n",
      "F1 score: 0.9822126954228417\n"
     ]
    }
   ],
   "source": [
    "from sklearn.metrics import accuracy_score, precision_score, f1_score\n",
    "\n",
    "rf_train_accuracy = accuracy_score(y_train, rf_train_preds)\n",
    "rf_test_accuracy = accuracy_score(y_test, rf_test_preds)\n",
    "rf_precision = precision_score(y_train, rf_train_preds, average = 'weighted')\n",
    "rf_f1_score = f1_score(y_train, rf_train_preds, average = 'weighted')\n",
    "\n",
    "# Calculate the accuracy of the model\n",
    "print(f\"Training accuracy: {rf_train_accuracy}\")\n",
    "print(f\"Test accuracy: {rf_test_accuracy}\")\n",
    "print(f\"Precision score: {rf_precision}\")\n",
    "print(f\"F1 score: {rf_f1_score}\")"
   ]
  },
  {
   "cell_type": "code",
   "execution_count": 43,
   "metadata": {},
   "outputs": [
    {
     "name": "stdout",
     "output_type": "stream",
     "text": [
      "rf_classification_report:\n",
      "               precision    recall  f1-score   support\n",
      "\n",
      "           0       0.86      0.93      0.90      1545\n",
      "           1       0.93      0.67      0.78       217\n",
      "           2       0.91      0.75      0.82       263\n",
      "           3       0.92      0.96      0.94      1261\n",
      "           4       0.91      0.83      0.87       789\n",
      "\n",
      "    accuracy                           0.90      4075\n",
      "   macro avg       0.91      0.83      0.86      4075\n",
      "weighted avg       0.90      0.90      0.89      4075\n",
      "\n"
     ]
    }
   ],
   "source": [
    "from sklearn.metrics import classification_report\n",
    "\n",
    "rf_classification_report = classification_report(y_test, rf_test_preds)\n",
    "\n",
    "print(\"rf_classification_report:\\n\", rf_classification_report)"
   ]
  },
  {
   "cell_type": "markdown",
   "metadata": {},
   "source": [
    "Comment: The random forest model has good performance on training data and generalise the unseen data. According to the precision score, 98% of time that the random forest model can classify the news to its categories correctly during the prediction. The F1 socore showed that both precision and recall are high. It indiciated that the model can classify the news accurately. "
   ]
  },
  {
   "cell_type": "code",
   "execution_count": 90,
   "metadata": {},
   "outputs": [
    {
     "data": {
      "image/png": "[encoded data removed]",
      "text/plain": [
       "<Figure size 432x288 with 1 Axes>"
      ]
     },
     "metadata": {
      "needs_background": "light"
     },
     "output_type": "display_data"
    }
   ],
   "source": [
    "from sklearn.exceptions import FitFailedWarning\n",
    "\n",
    "# Filter warnings to ignore FitFailedWarning\n",
    "warnings.filterwarnings(\"ignore\", category=FitFailedWarning)\n",
    "\n",
    "# Visualise the cross validation\n",
    "rf_CVplot = plot_cv(model = rf_model, cv_num = 5)\n",
    "\n",
    "# Reset the warnings to their default behavior\n",
    "warnings.resetwarnings()"
   ]
  },
  {
   "cell_type": "markdown",
   "metadata": {},
   "source": [
    "Comment: No overfitting and underfitting issue can be identified."
   ]
  },
  {
   "cell_type": "markdown",
   "metadata": {},
   "source": [
    "Next, it attempt the predict the news by deploying the random forest model."
   ]
  },
  {
   "cell_type": "code",
   "execution_count": 44,
   "metadata": {},
   "outputs": [
    {
     "name": "stdout",
     "output_type": "stream",
     "text": [
      "['economy']\n"
     ]
    }
   ],
   "source": [
    "# Predict the econ news, cat 0\n",
    "rf_pred_econ = rf_model.predict(bbc_econ_news)\n",
    "print(predict_news_category(rf_pred_econ))"
   ]
  },
  {
   "cell_type": "code",
   "execution_count": 45,
   "metadata": {},
   "outputs": [
    {
     "name": "stdout",
     "output_type": "stream",
     "text": [
      "['environment']\n"
     ]
    }
   ],
   "source": [
    "# Predict the envriomental news, cat 1\n",
    "rf_pred_env = rf_model.predict(bbc_env_news)\n",
    "print(predict_news_category(rf_pred_env))"
   ]
  },
  {
   "cell_type": "code",
   "execution_count": 46,
   "metadata": {},
   "outputs": [
    {
     "name": "stdout",
     "output_type": "stream",
     "text": [
      "['law']\n"
     ]
    }
   ],
   "source": [
    "# Predict the law news, cat 2\n",
    "rf_pred_law = rf_model.predict(law_news)\n",
    "print(predict_news_category(rf_pred_law))"
   ]
  },
  {
   "cell_type": "code",
   "execution_count": 47,
   "metadata": {},
   "outputs": [
    {
     "name": "stdout",
     "output_type": "stream",
     "text": [
      "['politics']\n"
     ]
    }
   ],
   "source": [
    "# Predict the politics news, cat 3\n",
    "rf_pred_pol = rf_model.predict(bbc_pol_news)\n",
    "print(predict_news_category(rf_pred_pol))"
   ]
  },
  {
   "cell_type": "code",
   "execution_count": 48,
   "metadata": {},
   "outputs": [
    {
     "name": "stdout",
     "output_type": "stream",
     "text": [
      "['technology']\n"
     ]
    }
   ],
   "source": [
    "# Predict the technology news, cat 4\n",
    "rf_pred_tech = rf_model.predict(bbc_tech_news)\n",
    "print(predict_news_category(rf_pred_tech))"
   ]
  },
  {
   "cell_type": "markdown",
   "metadata": {},
   "source": [
    "## Multinomial Naive Bayes classifier"
   ]
  },
  {
   "cell_type": "code",
   "execution_count": 49,
   "metadata": {},
   "outputs": [
    {
     "data": {
      "text/plain": [
       "Pipeline(steps=[('tfidf', TfidfVectorizer()), ('clf', MultinomialNB())])"
      ]
     },
     "execution_count": 49,
     "metadata": {},
     "output_type": "execute_result"
    }
   ],
   "source": [
    "from sklearn.feature_extraction.text import TfidfVectorizer\n",
    "from sklearn.naive_bayes import MultinomialNB\n",
    "from sklearn.pipeline import Pipeline\n",
    "\n",
    "multi_nb_model = Pipeline([\n",
    "        ('tfidf', TfidfVectorizer()),\n",
    "        ('clf', MultinomialNB())\n",
    "])\n",
    "\n",
    "multi_nb_model.fit(X_train, y_train)"
   ]
  },
  {
   "cell_type": "code",
   "execution_count": 50,
   "metadata": {},
   "outputs": [],
   "source": [
    "# Make predictions on the test set\n",
    "mnb_train_preds = multi_nb_model.predict(X_train)\n",
    "mnb_test_preds = multi_nb_model.predict(X_test)"
   ]
  },
  {
   "cell_type": "code",
   "execution_count": 51,
   "metadata": {},
   "outputs": [
    {
     "name": "stdout",
     "output_type": "stream",
     "text": [
      "Training accuracy: 0.8030079932688262\n",
      "Test accuracy: 0.7950920245398773\n",
      "Precision score: 0.7751647506961354\n",
      "F1 score: 0.7522906237540626\n"
     ]
    },
    {
     "name": "stderr",
     "output_type": "stream",
     "text": [
      "/Users/amosmbp14/opt/anaconda3/lib/python3.9/site-packages/sklearn/metrics/_classification.py:1248: UndefinedMetricWarning: Precision is ill-defined and being set to 0.0 in labels with no predicted samples. Use `zero_division` parameter to control this behavior.\n",
      "  _warn_prf(average, modifier, msg_start, len(result))\n"
     ]
    }
   ],
   "source": [
    "from sklearn.metrics import accuracy_score, precision_score, f1_score\n",
    "\n",
    "mnb_train_accuracy = accuracy_score(y_train, mnb_train_preds)\n",
    "mnb_test_accuracy = accuracy_score(y_test, mnb_test_preds)\n",
    "mnb_precision = precision_score(y_train, mnb_train_preds, average = 'weighted')\n",
    "mnb_f1_score = f1_score(y_train, mnb_train_preds, average = 'weighted')\n",
    "\n",
    "# Calculate the accuracy of the model\n",
    "print(f\"Training accuracy: {mnb_train_accuracy}\")\n",
    "print(f\"Test accuracy: {mnb_test_accuracy}\")\n",
    "print(f\"Precision score: {mnb_precision}\")\n",
    "print(f\"F1 score: {mnb_f1_score}\")"
   ]
  },
  {
   "cell_type": "code",
   "execution_count": 52,
   "metadata": {},
   "outputs": [
    {
     "name": "stdout",
     "output_type": "stream",
     "text": [
      "mnb_classification_report:\n",
      "               precision    recall  f1-score   support\n",
      "\n",
      "           0       0.77      0.92      0.84      1545\n",
      "           1       1.00      0.01      0.03       217\n",
      "           2       0.00      0.00      0.00       263\n",
      "           3       0.77      0.98      0.86      1261\n",
      "           4       0.92      0.73      0.82       789\n",
      "\n",
      "    accuracy                           0.80      4075\n",
      "   macro avg       0.69      0.53      0.51      4075\n",
      "weighted avg       0.76      0.80      0.75      4075\n",
      "\n"
     ]
    },
    {
     "name": "stderr",
     "output_type": "stream",
     "text": [
      "/Users/amosmbp14/opt/anaconda3/lib/python3.9/site-packages/sklearn/metrics/_classification.py:1248: UndefinedMetricWarning: Precision and F-score are ill-defined and being set to 0.0 in labels with no predicted samples. Use `zero_division` parameter to control this behavior.\n",
      "  _warn_prf(average, modifier, msg_start, len(result))\n",
      "/Users/amosmbp14/opt/anaconda3/lib/python3.9/site-packages/sklearn/metrics/_classification.py:1248: UndefinedMetricWarning: Precision and F-score are ill-defined and being set to 0.0 in labels with no predicted samples. Use `zero_division` parameter to control this behavior.\n",
      "  _warn_prf(average, modifier, msg_start, len(result))\n",
      "/Users/amosmbp14/opt/anaconda3/lib/python3.9/site-packages/sklearn/metrics/_classification.py:1248: UndefinedMetricWarning: Precision and F-score are ill-defined and being set to 0.0 in labels with no predicted samples. Use `zero_division` parameter to control this behavior.\n",
      "  _warn_prf(average, modifier, msg_start, len(result))\n"
     ]
    }
   ],
   "source": [
    "from sklearn.metrics import classification_report\n",
    "\n",
    "mnb_classification_report = classification_report(y_test, mnb_test_preds)\n",
    "\n",
    "print(\"mnb_classification_report:\\n\", mnb_classification_report)"
   ]
  },
  {
   "cell_type": "markdown",
   "metadata": {},
   "source": [
    "Comment: Overall, the multinomial naive bayes has decreased training and testing accuracy, but it sill under the acceptable level. However, it has poor performance to classify news into category 1 and 2. So this multinomial NB model will not be deployed for any news category prediction. Also, the classification report shows that the model may have poor performance in classifying law and environmental news."
   ]
  },
  {
   "cell_type": "code",
   "execution_count": 53,
   "metadata": {},
   "outputs": [
    {
     "name": "stdout",
     "output_type": "stream",
     "text": [
      "['economy']\n"
     ]
    }
   ],
   "source": [
    "# Predict the econ news, cat 0\n",
    "mnb_pred_econ = multi_nb_model.predict(bbc_econ_news)\n",
    "print(predict_news_category(mnb_pred_econ))"
   ]
  },
  {
   "cell_type": "code",
   "execution_count": 54,
   "metadata": {},
   "outputs": [
    {
     "name": "stdout",
     "output_type": "stream",
     "text": [
      "['economy']\n"
     ]
    }
   ],
   "source": [
    "# Predict the envriomental news, cat 1\n",
    "mnb_pred_env = multi_nb_model.predict(bbc_env_news)\n",
    "print(predict_news_category(mnb_pred_env))"
   ]
  },
  {
   "cell_type": "code",
   "execution_count": 55,
   "metadata": {},
   "outputs": [
    {
     "name": "stdout",
     "output_type": "stream",
     "text": [
      "['politics']\n"
     ]
    }
   ],
   "source": [
    "# Predict the law news, cat 2\n",
    "mnb_pred_law = multi_nb_model.predict(law_news)\n",
    "print(predict_news_category(mnb_pred_law))"
   ]
  },
  {
   "cell_type": "code",
   "execution_count": 56,
   "metadata": {},
   "outputs": [
    {
     "name": "stdout",
     "output_type": "stream",
     "text": [
      "['politics']\n"
     ]
    }
   ],
   "source": [
    "# Predict the politics news, cat 3\n",
    "mnb_pred_pol = multi_nb_model.predict(bbc_pol_news)\n",
    "print(predict_news_category(mnb_pred_pol))"
   ]
  },
  {
   "cell_type": "code",
   "execution_count": 57,
   "metadata": {},
   "outputs": [
    {
     "name": "stdout",
     "output_type": "stream",
     "text": [
      "['technology']\n"
     ]
    }
   ],
   "source": [
    "# Predict the technology news, cat 4\n",
    "mnb_pred_tech = multi_nb_model.predict(bbc_tech_news)\n",
    "print(predict_news_category(mnb_pred_tech))"
   ]
  },
  {
   "cell_type": "markdown",
   "metadata": {},
   "source": [
    "## Support Vector Machine"
   ]
  },
  {
   "cell_type": "code",
   "execution_count": 58,
   "metadata": {},
   "outputs": [
    {
     "data": {
      "text/plain": [
       "Pipeline(steps=[('tfidf', TfidfVectorizer()), ('clf', SVC())])"
      ]
     },
     "execution_count": 58,
     "metadata": {},
     "output_type": "execute_result"
    }
   ],
   "source": [
    "from sklearn.svm import SVC\n",
    "from sklearn.pipeline import Pipeline\n",
    "from sklearn.feature_extraction.text import TfidfVectorizer\n",
    "\n",
    "svm_model = Pipeline([\n",
    "    ('tfidf', TfidfVectorizer()),  # Use TfidfVectorizer for text data\n",
    "    ('clf', SVC())                 # Support Vector Machine classifier\n",
    "])\n",
    "\n",
    "# Train the model\n",
    "svm_model.fit(X_train, y_train)"
   ]
  },
  {
   "cell_type": "code",
   "execution_count": 59,
   "metadata": {},
   "outputs": [],
   "source": [
    "# Make predictions on the test set\n",
    "svm_train_preds = svm_model.predict(X_train)\n",
    "svm_test_preds = svm_model.predict(X_test)"
   ]
  },
  {
   "cell_type": "code",
   "execution_count": 60,
   "metadata": {},
   "outputs": [
    {
     "name": "stdout",
     "output_type": "stream",
     "text": [
      "Training accuracy: 0.9775978123685317\n",
      "Test accuracy: 0.9094478527607361\n",
      "Precision score: 0.977589577095512\n",
      "F1 score: 0.9775447758593327\n"
     ]
    }
   ],
   "source": [
    "from sklearn.metrics import accuracy_score, precision_score, f1_score\n",
    "\n",
    "svm_train_accuracy = accuracy_score(y_train, svm_train_preds)\n",
    "svm_test_accuracy = accuracy_score(y_test, svm_test_preds)\n",
    "svm_precision = precision_score(y_train, svm_train_preds, average = 'weighted')\n",
    "svm_f1_score = f1_score(y_train, svm_train_preds, average = 'weighted')\n",
    "\n",
    "# Calculate the accuracy of the model\n",
    "print(f\"Training accuracy: {svm_train_accuracy}\")\n",
    "print(f\"Test accuracy: {svm_test_accuracy}\")\n",
    "print(f\"Precision score: {svm_precision}\")\n",
    "print(f\"F1 score: {svm_f1_score}\")"
   ]
  },
  {
   "cell_type": "code",
   "execution_count": 61,
   "metadata": {},
   "outputs": [
    {
     "name": "stdout",
     "output_type": "stream",
     "text": [
      "mnb_classification_report:\n",
      "               precision    recall  f1-score   support\n",
      "\n",
      "           0       0.88      0.93      0.91      1545\n",
      "           1       0.90      0.82      0.86       217\n",
      "           2       0.90      0.80      0.85       263\n",
      "           3       0.95      0.95      0.95      1261\n",
      "           4       0.91      0.86      0.88       789\n",
      "\n",
      "    accuracy                           0.91      4075\n",
      "   macro avg       0.91      0.87      0.89      4075\n",
      "weighted avg       0.91      0.91      0.91      4075\n",
      "\n"
     ]
    }
   ],
   "source": [
    "from sklearn.metrics import classification_report\n",
    "\n",
    "svm_classification_report = classification_report(y_test, svm_test_preds)\n",
    "\n",
    "print(\"mnb_classification_report:\\n\", svm_classification_report)"
   ]
  },
  {
   "cell_type": "markdown",
   "metadata": {},
   "source": [
    "Comment: The SVM model performed well in training and generalising unseen data. The precision of categorising the news is high during the prediciton. The classification report showed that all categories could be classified well in general. "
   ]
  },
  {
   "cell_type": "code",
   "execution_count": 91,
   "metadata": {},
   "outputs": [
    {
     "data": {
      "image/png": "[encoded data removed]",
      "text/plain": [
       "<Figure size 432x288 with 1 Axes>"
      ]
     },
     "metadata": {
      "needs_background": "light"
     },
     "output_type": "display_data"
    }
   ],
   "source": [
    "from sklearn.exceptions import FitFailedWarning\n",
    "\n",
    "# Filter warnings to ignore FitFailedWarning\n",
    "warnings.filterwarnings(\"ignore\", category=FitFailedWarning)\n",
    "\n",
    "# Visualise the cross validation\n",
    "svm_CVplot = plot_cv(model = svm_model, cv_num = 5)\n",
    "\n",
    "# Reset the warnings to their default behavior\n",
    "warnings.resetwarnings()"
   ]
  },
  {
   "cell_type": "markdown",
   "metadata": {},
   "source": [
    "Comment: No overfitting and underfitting can be identified."
   ]
  },
  {
   "cell_type": "markdown",
   "metadata": {},
   "source": [
    "Next, it deploys the model to predict the news categories."
   ]
  },
  {
   "cell_type": "code",
   "execution_count": 62,
   "metadata": {},
   "outputs": [
    {
     "name": "stdout",
     "output_type": "stream",
     "text": [
      "['economy']\n"
     ]
    }
   ],
   "source": [
    "# Predict the econ news, cat 0\n",
    "svm_pred_econ = svm_model.predict(bbc_econ_news)\n",
    "print(predict_news_category(svm_pred_econ))"
   ]
  },
  {
   "cell_type": "code",
   "execution_count": 63,
   "metadata": {},
   "outputs": [
    {
     "name": "stdout",
     "output_type": "stream",
     "text": [
      "['environment']\n"
     ]
    }
   ],
   "source": [
    "# Predict the envriomental news, cat 1\n",
    "svm_pred_env = svm_model.predict(bbc_env_news)\n",
    "print(predict_news_category(svm_pred_env))"
   ]
  },
  {
   "cell_type": "code",
   "execution_count": 64,
   "metadata": {},
   "outputs": [
    {
     "name": "stdout",
     "output_type": "stream",
     "text": [
      "['law']\n"
     ]
    }
   ],
   "source": [
    "# Predict the law news, cat 2\n",
    "svm_pred_law = svm_model.predict(law_news)\n",
    "print(predict_news_category(svm_pred_law))"
   ]
  },
  {
   "cell_type": "code",
   "execution_count": 65,
   "metadata": {},
   "outputs": [
    {
     "name": "stdout",
     "output_type": "stream",
     "text": [
      "['politics']\n"
     ]
    }
   ],
   "source": [
    "# Predict the politics news, cat 3\n",
    "svm_pred_pol = svm_model.predict(bbc_pol_news)\n",
    "print(predict_news_category(svm_pred_pol))"
   ]
  },
  {
   "cell_type": "code",
   "execution_count": 66,
   "metadata": {},
   "outputs": [
    {
     "name": "stdout",
     "output_type": "stream",
     "text": [
      "['technology']\n"
     ]
    }
   ],
   "source": [
    "# Predict the technology news, cat 4\n",
    "svm_pred_tech = svm_model.predict(bbc_tech_news)\n",
    "print(predict_news_category(svm_pred_tech))"
   ]
  },
  {
   "cell_type": "markdown",
   "metadata": {},
   "source": [
    "## Decision Tree"
   ]
  },
  {
   "cell_type": "code",
   "execution_count": 67,
   "metadata": {},
   "outputs": [
    {
     "data": {
      "text/plain": [
       "Pipeline(steps=[('tfidf', TfidfVectorizer()), ('clf', SVC())])"
      ]
     },
     "execution_count": 67,
     "metadata": {},
     "output_type": "execute_result"
    }
   ],
   "source": [
    "from sklearn.svm import SVC\n",
    "from sklearn.pipeline import Pipeline\n",
    "from sklearn.feature_extraction.text import TfidfVectorizer\n",
    "\n",
    "dt_model = Pipeline([\n",
    "    ('tfidf', TfidfVectorizer()),  # Use TfidfVectorizer for text data\n",
    "    ('clf', SVC())                 # Support Vector Machine classifier\n",
    "])\n",
    "\n",
    "# Train the model\n",
    "dt_model.fit(X_train, y_train)"
   ]
  },
  {
   "cell_type": "code",
   "execution_count": 68,
   "metadata": {},
   "outputs": [],
   "source": [
    "# Make predictions on the test set\n",
    "dt_train_preds = dt_model.predict(X_train)\n",
    "dt_test_preds = dt_model.predict(X_test)"
   ]
  },
  {
   "cell_type": "code",
   "execution_count": 69,
   "metadata": {},
   "outputs": [
    {
     "name": "stdout",
     "output_type": "stream",
     "text": [
      "Training accuracy: 0.9775978123685317\n",
      "Test accuracy: 0.9094478527607361\n",
      "Precision score: 0.977589577095512\n",
      "F1 score: 0.9775447758593327\n"
     ]
    }
   ],
   "source": [
    "from sklearn.metrics import accuracy_score, precision_score, f1_score\n",
    "\n",
    "dt_train_accuracy = accuracy_score(y_train, dt_train_preds)\n",
    "dt_test_accuracy = accuracy_score(y_test, dt_test_preds)\n",
    "dt_precision = precision_score(y_train, dt_train_preds, average = 'weighted')\n",
    "dt_f1_score = f1_score(y_train, dt_train_preds, average = 'weighted')\n",
    "\n",
    "# Calculate the accuracy of the model\n",
    "print(f\"Training accuracy: {dt_train_accuracy}\")\n",
    "print(f\"Test accuracy: {dt_test_accuracy}\")\n",
    "print(f\"Precision score: {dt_precision}\")\n",
    "print(f\"F1 score: {dt_f1_score}\")"
   ]
  },
  {
   "cell_type": "code",
   "execution_count": 70,
   "metadata": {},
   "outputs": [
    {
     "name": "stdout",
     "output_type": "stream",
     "text": [
      "Classification report:\n",
      "               precision    recall  f1-score   support\n",
      "\n",
      "           0       0.88      0.93      0.91      1545\n",
      "           1       0.90      0.82      0.86       217\n",
      "           2       0.90      0.80      0.85       263\n",
      "           3       0.95      0.95      0.95      1261\n",
      "           4       0.91      0.86      0.88       789\n",
      "\n",
      "    accuracy                           0.91      4075\n",
      "   macro avg       0.91      0.87      0.89      4075\n",
      "weighted avg       0.91      0.91      0.91      4075\n",
      "\n"
     ]
    }
   ],
   "source": [
    "from sklearn.metrics import classification_report\n",
    "\n",
    "dt_classification_report = classification_report(y_test, dt_test_preds)\n",
    "print(\"Classification report:\\n\", dt_classification_report)"
   ]
  },
  {
   "cell_type": "markdown",
   "metadata": {},
   "source": [
    "Comment: This DT model preform well in training and generalise unseen data. Precision of categorizing news is high in the predicion and dataset."
   ]
  },
  {
   "cell_type": "code",
   "execution_count": 92,
   "metadata": {},
   "outputs": [
    {
     "data": {
      "image/png": "[encoded data removed]",
      "text/plain": [
       "<Figure size 432x288 with 1 Axes>"
      ]
     },
     "metadata": {
      "needs_background": "light"
     },
     "output_type": "display_data"
    }
   ],
   "source": [
    "from sklearn.exceptions import FitFailedWarning\n",
    "\n",
    "# Filter warnings to ignore FitFailedWarning\n",
    "warnings.filterwarnings(\"ignore\", category=FitFailedWarning)\n",
    "\n",
    "# Visualise the cross validation\n",
    "dt_CVplot = plot_cv(model = dt_model, cv_num = 5)\n",
    "\n",
    "# Reset the warnings to their default behavior\n",
    "warnings.resetwarnings()"
   ]
  },
  {
   "cell_type": "markdown",
   "metadata": {},
   "source": [
    "Next, it deploy the decision tree model to predict the news category."
   ]
  },
  {
   "cell_type": "code",
   "execution_count": 71,
   "metadata": {},
   "outputs": [
    {
     "name": "stdout",
     "output_type": "stream",
     "text": [
      "['economy']\n"
     ]
    }
   ],
   "source": [
    "# Predict the econ news, cat 0\n",
    "dt_pred_econ = dt_model.predict(bbc_econ_news)\n",
    "print(predict_news_category(dt_pred_econ))"
   ]
  },
  {
   "cell_type": "code",
   "execution_count": 72,
   "metadata": {},
   "outputs": [
    {
     "name": "stdout",
     "output_type": "stream",
     "text": [
      "['environment']\n"
     ]
    }
   ],
   "source": [
    "# Predict the envriomental news, cat 1\n",
    "dt_pred_env = dt_model.predict(bbc_env_news)\n",
    "print(predict_news_category(dt_pred_env))"
   ]
  },
  {
   "cell_type": "code",
   "execution_count": 73,
   "metadata": {},
   "outputs": [
    {
     "name": "stdout",
     "output_type": "stream",
     "text": [
      "['law']\n"
     ]
    }
   ],
   "source": [
    "# Predict the law news, cat 2\n",
    "dt_pred_law = dt_model.predict(law_news)\n",
    "print(predict_news_category(dt_pred_law))"
   ]
  },
  {
   "cell_type": "code",
   "execution_count": 74,
   "metadata": {},
   "outputs": [
    {
     "name": "stdout",
     "output_type": "stream",
     "text": [
      "['politics']\n"
     ]
    }
   ],
   "source": [
    "# Predict the politics news, cat 3\n",
    "dt_pred_pol = dt_model.predict(bbc_pol_news)\n",
    "print(predict_news_category(dt_pred_pol))"
   ]
  },
  {
   "cell_type": "code",
   "execution_count": 75,
   "metadata": {},
   "outputs": [
    {
     "name": "stdout",
     "output_type": "stream",
     "text": [
      "['technology']\n"
     ]
    }
   ],
   "source": [
    "# Predict the technology news, cat 4\n",
    "dt_pred_tech = dt_model.predict(bbc_tech_news)\n",
    "print(predict_news_category(dt_pred_tech))"
   ]
  },
  {
   "cell_type": "markdown",
   "metadata": {},
   "source": [
    "## KNN classifier"
   ]
  },
  {
   "cell_type": "code",
   "execution_count": 76,
   "metadata": {},
   "outputs": [
    {
     "name": "stdout",
     "output_type": "stream",
     "text": [
      "Best Parameters:  {'clf__n_neighbors': 1}\n",
      "Best Accuracy: 0.86\n"
     ]
    }
   ],
   "source": [
    "from sklearn.neighbors import KNeighborsClassifier\n",
    "from sklearn.model_selection import GridSearchCV\n",
    "from sklearn.pipeline import Pipeline\n",
    "\n",
    "# Create a pipeline with TfidfVectorizer and KNN classifier\n",
    "knn_model = Pipeline([\n",
    "    ('tfidf', TfidfVectorizer()),\n",
    "    ('clf', KNeighborsClassifier())\n",
    "])\n",
    "\n",
    "\n",
    "# Parameter for grid search\n",
    "grid_param = {'clf__n_neighbors': [1, 3, 5, 7, 9, 11, 13, 15]}\n",
    "\n",
    "# grid search object\n",
    "grid_search = GridSearchCV(knn_model, grid_param, cv=5,\n",
    "                          scoring = 'accuracy',\n",
    "                          n_jobs = -1)\n",
    "\n",
    "# fit the grid search on training data\n",
    "grid_search.fit(X_train, y_train)\n",
    "\n",
    "# Print the best parameters and the corresponding accuracy\n",
    "print(\"Best Parameters: \", grid_search.best_params_)\n",
    "print(\"Best Accuracy: {:.2f}\".format(grid_search.best_score_))"
   ]
  },
  {
   "cell_type": "code",
   "execution_count": 77,
   "metadata": {},
   "outputs": [
    {
     "data": {
      "text/plain": [
       "Pipeline(steps=[('tfidf', TfidfVectorizer()),\n",
       "                ('clf', KNeighborsClassifier(n_neighbors=1))])"
      ]
     },
     "execution_count": 77,
     "metadata": {},
     "output_type": "execute_result"
    }
   ],
   "source": [
    "# Get the best model\n",
    "best_knn_model = grid_search.best_estimator_\n",
    "best_knn_model"
   ]
  },
  {
   "cell_type": "code",
   "execution_count": 78,
   "metadata": {},
   "outputs": [],
   "source": [
    "# Make predictions on the test set\n",
    "knn_train_preds = best_knn_model.predict(X_train)\n",
    "knn_test_preds = best_knn_model.predict(X_test)"
   ]
  },
  {
   "cell_type": "code",
   "execution_count": 79,
   "metadata": {},
   "outputs": [
    {
     "name": "stdout",
     "output_type": "stream",
     "text": [
      "Training accuracy: 0.9775978123685317\n",
      "Test accuracy: 0.9094478527607361\n",
      "Precision score: 0.977589577095512\n",
      "F1 score: 0.9775447758593327\n"
     ]
    }
   ],
   "source": [
    "from sklearn.metrics import accuracy_score, precision_score, f1_score\n",
    "\n",
    "svm_train_accuracy = accuracy_score(y_train, svm_train_preds)\n",
    "svm_test_accuracy = accuracy_score(y_test, svm_test_preds)\n",
    "svm_precision = precision_score(y_train, svm_train_preds, average = 'weighted')\n",
    "svm_f1_score = f1_score(y_train, svm_train_preds, average = 'weighted')\n",
    "\n",
    "# Calculate the accuracy of the model\n",
    "print(f\"Training accuracy: {svm_train_accuracy}\")\n",
    "print(f\"Test accuracy: {svm_test_accuracy}\")\n",
    "print(f\"Precision score: {svm_precision}\")\n",
    "print(f\"F1 score: {svm_f1_score}\")"
   ]
  },
  {
   "cell_type": "code",
   "execution_count": 80,
   "metadata": {},
   "outputs": [
    {
     "name": "stdout",
     "output_type": "stream",
     "text": [
      "Classification Report:\n",
      "               precision    recall  f1-score   support\n",
      "\n",
      "           0       0.88      0.85      0.86      1545\n",
      "           1       0.80      0.87      0.83       217\n",
      "           2       0.78      0.78      0.78       263\n",
      "           3       0.90      0.92      0.91      1261\n",
      "           4       0.85      0.87      0.86       789\n",
      "\n",
      "    accuracy                           0.87      4075\n",
      "   macro avg       0.84      0.86      0.85      4075\n",
      "weighted avg       0.87      0.87      0.87      4075\n",
      "\n"
     ]
    }
   ],
   "source": [
    "from sklearn.metrics import classification_report\n",
    "knn_class_report = classification_report(y_test, knn_test_preds)\n",
    "print(\"Classification Report:\\n\", knn_class_report)"
   ]
  },
  {
   "cell_type": "markdown",
   "metadata": {},
   "source": [
    "Comment: This knn model performs well in training and generalising unseen data. Overall it is precised to categorize the news in prediction and dataset. However, the classification report shows that the category 2, law news category, may have lower accuracy during the classification."
   ]
  },
  {
   "cell_type": "code",
   "execution_count": 81,
   "metadata": {},
   "outputs": [
    {
     "name": "stdout",
     "output_type": "stream",
     "text": [
      "['economy']\n"
     ]
    }
   ],
   "source": [
    "# Predict the econ news, cat 0\n",
    "knn_pred_econ = best_knn_model.predict(bbc_econ_news)\n",
    "print(predict_news_category(knn_pred_econ))"
   ]
  },
  {
   "cell_type": "code",
   "execution_count": 82,
   "metadata": {},
   "outputs": [
    {
     "name": "stdout",
     "output_type": "stream",
     "text": [
      "['environment']\n"
     ]
    }
   ],
   "source": [
    "# Predict the envriomental news, cat 1\n",
    "knn_pred_env = best_knn_model.predict(bbc_env_news)\n",
    "print(predict_news_category(knn_pred_env))"
   ]
  },
  {
   "cell_type": "code",
   "execution_count": 83,
   "metadata": {},
   "outputs": [
    {
     "name": "stdout",
     "output_type": "stream",
     "text": [
      "['politics']\n"
     ]
    }
   ],
   "source": [
    "# Predict the law news, cat 2\n",
    "knn_pred_law = best_knn_model.predict(law_news)\n",
    "print(predict_news_category(knn_pred_law))"
   ]
  },
  {
   "cell_type": "markdown",
   "metadata": {},
   "source": [
    "It seems that the knn model could not perform well to categorise law news."
   ]
  },
  {
   "cell_type": "code",
   "execution_count": 84,
   "metadata": {},
   "outputs": [
    {
     "name": "stdout",
     "output_type": "stream",
     "text": [
      "['politics']\n"
     ]
    }
   ],
   "source": [
    "# Predict the politics news, cat 3\n",
    "knn_pred_pol = best_knn_model.predict(bbc_pol_news)\n",
    "print(predict_news_category(knn_pred_pol))"
   ]
  },
  {
   "cell_type": "code",
   "execution_count": 85,
   "metadata": {},
   "outputs": [
    {
     "name": "stdout",
     "output_type": "stream",
     "text": [
      "['technology']\n"
     ]
    }
   ],
   "source": [
    "# Predict the technology news, cat 4\n",
    "knn_pred_tech = best_knn_model.predict(bbc_tech_news)\n",
    "print(predict_news_category(knn_pred_tech))"
   ]
  },
  {
   "cell_type": "markdown",
   "metadata": {},
   "source": [
    "# Summary"
   ]
  },
  {
   "cell_type": "code",
   "execution_count": 88,
   "metadata": {},
   "outputs": [
    {
     "data": {
      "text/plain": [
       "['/Users/amosmbp14/Jupyter notebook/News_classifier/models/dt_newsClass.pkl']"
      ]
     },
     "execution_count": 88,
     "metadata": {},
     "output_type": "execute_result"
    }
   ],
   "source": [
    "import joblib\n",
    "\n",
    "# Save the model as a pickle file\n",
    "joblib.dump(lr_model, '/Users/amosmbp14/Jupyter notebook/News_classifier/models/lr_newsClass.pkl')\n",
    "joblib.dump(rf_model, '/Users/amosmbp14/Jupyter notebook/News_classifier/models/rf_newsClass.pkl')\n",
    "joblib.dump(svm_model, '/Users/amosmbp14/Jupyter notebook/News_classifier/models/svm_newsClass.pkl')\n",
    "joblib.dump(dt_model, '/Users/amosmbp14/Jupyter notebook/News_classifier/models/dt_newsClass.pkl')"
   ]
  },
  {
   "cell_type": "code",
   "execution_count": null,
   "metadata": {},
   "outputs": [],
   "source": []
  }
 ],
 "metadata": {
  "colab": {
   "authorship_tag": "ABX9TyNuxfjEJ2Tj9nK6X7C67qvT",
   "collapsed_sections": [
    "OQlNdFLay93u",
    "nSW_bqexzEX0"
   ],
   "provenance": []
  },
  "kernelspec": {
   "display_name": "Python 3 (ipykernel)",
   "language": "python",
   "name": "python3"
  },
  "language_info": {
   "codemirror_mode": {
    "name": "ipython",
    "version": 3
   },
   "file_extension": ".py",
   "mimetype": "text/x-python",
   "name": "python",
   "nbconvert_exporter": "python",
   "pygments_lexer": "ipython3",
   "version": "3.9.7"
  }
 },
 "nbformat": 4,
 "nbformat_minor": 4
}
