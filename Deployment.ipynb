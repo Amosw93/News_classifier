{
 "cells": [
  {
   "cell_type": "markdown",
   "id": "bd34ac6b-d608-4dda-ad32-5af23605a3db",
   "metadata": {},
   "source": [
    "# Deploy the model"
   ]
  },
  {
   "cell_type": "markdown",
   "id": "d0329c98-7e41-439b-89d0-16897f942676",
   "metadata": {},
   "source": [
    "Read the csv file of Nov 2023 news."
   ]
  },
  {
   "cell_type": "code",
   "execution_count": 3,
   "id": "079519fb-6e09-4414-9874-ef2a38143b4d",
   "metadata": {},
   "outputs": [
    {
     "data": {
      "text/plain": [
       "'/Users/amosmbp14/Jupyter notebook/News_classifier'"
      ]
     },
     "execution_count": 3,
     "metadata": {},
     "output_type": "execute_result"
    }
   ],
   "source": [
    "import os\n",
    "cwd = os.getcwd()\n",
    "cwd"
   ]
  },
  {
   "cell_type": "code",
   "execution_count": 8,
   "id": "3c328484-58cd-4768-8700-4d26901f6eb9",
   "metadata": {},
   "outputs": [],
   "source": [
    "import pandas as pd\n",
    "news_df = pd.read_csv('/Users/amosmbp14/Jupyter notebook/News_classifier/dataset/novnews.csv')"
   ]
  },
  {
   "cell_type": "code",
   "execution_count": 9,
   "id": "4856c424-d01e-4063-a0d1-4b372f767812",
   "metadata": {},
   "outputs": [
    {
     "data": {
      "text/html": [
       "<div>\n",
       "<style scoped>\n",
       "    .dataframe tbody tr th:only-of-type {\n",
       "        vertical-align: middle;\n",
       "    }\n",
       "\n",
       "    .dataframe tbody tr th {\n",
       "        vertical-align: top;\n",
       "    }\n",
       "\n",
       "    .dataframe thead th {\n",
       "        text-align: right;\n",
       "    }\n",
       "</style>\n",
       "<table border=\"1\" class=\"dataframe\">\n",
       "  <thead>\n",
       "    <tr style=\"text-align: right;\">\n",
       "      <th></th>\n",
       "      <th>soruce</th>\n",
       "      <th>uri</th>\n",
       "      <th>body</th>\n",
       "      <th>category</th>\n",
       "    </tr>\n",
       "  </thead>\n",
       "  <tbody>\n",
       "    <tr>\n",
       "      <th>0</th>\n",
       "      <td>bbc</td>\n",
       "      <td>https://www.bbc.co.uk/news/articles/cjrpzxpv90eo</td>\n",
       "      <td>The governor of the Bank of England has warned...</td>\n",
       "      <td>economy</td>\n",
       "    </tr>\n",
       "    <tr>\n",
       "      <th>1</th>\n",
       "      <td>bbc</td>\n",
       "      <td>https://www.bbc.co.uk/news/business-67539910</td>\n",
       "      <td>Chinese officials have launched an investigati...</td>\n",
       "      <td>economy</td>\n",
       "    </tr>\n",
       "    <tr>\n",
       "      <th>2</th>\n",
       "      <td>bbc</td>\n",
       "      <td>https://www.bbc.co.uk/news/world-europe-67544997</td>\n",
       "      <td>Eurostar services from the Netherlands to Lond...</td>\n",
       "      <td>economy</td>\n",
       "    </tr>\n",
       "    <tr>\n",
       "      <th>3</th>\n",
       "      <td>bbc</td>\n",
       "      <td>https://www.bbc.co.uk/news/business-67535723</td>\n",
       "      <td>Metro Bank shareholders have voted to back a r...</td>\n",
       "      <td>economy</td>\n",
       "    </tr>\n",
       "    <tr>\n",
       "      <th>4</th>\n",
       "      <td>bbc</td>\n",
       "      <td>https://www.bbc.co.uk/news/business-67539910</td>\n",
       "      <td>Chinese officials have launched an investigati...</td>\n",
       "      <td>economy</td>\n",
       "    </tr>\n",
       "  </tbody>\n",
       "</table>\n",
       "</div>"
      ],
      "text/plain": [
       "  soruce                                               uri  \\\n",
       "0    bbc  https://www.bbc.co.uk/news/articles/cjrpzxpv90eo   \n",
       "1    bbc      https://www.bbc.co.uk/news/business-67539910   \n",
       "2    bbc  https://www.bbc.co.uk/news/world-europe-67544997   \n",
       "3    bbc      https://www.bbc.co.uk/news/business-67535723   \n",
       "4    bbc      https://www.bbc.co.uk/news/business-67539910   \n",
       "\n",
       "                                                body category  \n",
       "0  The governor of the Bank of England has warned...  economy  \n",
       "1  Chinese officials have launched an investigati...  economy  \n",
       "2  Eurostar services from the Netherlands to Lond...  economy  \n",
       "3  Metro Bank shareholders have voted to back a r...  economy  \n",
       "4  Chinese officials have launched an investigati...  economy  "
      ]
     },
     "execution_count": 9,
     "metadata": {},
     "output_type": "execute_result"
    }
   ],
   "source": [
    "news_df.head()"
   ]
  },
  {
   "cell_type": "code",
   "execution_count": 10,
   "id": "7aec0b2e-b248-48b2-9201-5f5ad4fb45c8",
   "metadata": {},
   "outputs": [
    {
     "data": {
      "text/html": [
       "<div>\n",
       "<style scoped>\n",
       "    .dataframe tbody tr th:only-of-type {\n",
       "        vertical-align: middle;\n",
       "    }\n",
       "\n",
       "    .dataframe tbody tr th {\n",
       "        vertical-align: top;\n",
       "    }\n",
       "\n",
       "    .dataframe thead th {\n",
       "        text-align: right;\n",
       "    }\n",
       "</style>\n",
       "<table border=\"1\" class=\"dataframe\">\n",
       "  <thead>\n",
       "    <tr style=\"text-align: right;\">\n",
       "      <th></th>\n",
       "      <th>soruce</th>\n",
       "      <th>uri</th>\n",
       "      <th>body</th>\n",
       "      <th>category</th>\n",
       "    </tr>\n",
       "  </thead>\n",
       "  <tbody>\n",
       "    <tr>\n",
       "      <th>95</th>\n",
       "      <td>the_guardian</td>\n",
       "      <td>https://www.theguardian.com/technology/2023/oc...</td>\n",
       "      <td>Google’s standard Pixel 8 gets a little smalle...</td>\n",
       "      <td>tech</td>\n",
       "    </tr>\n",
       "    <tr>\n",
       "      <th>96</th>\n",
       "      <td>forbes</td>\n",
       "      <td>https://www.forbes.com/sites/rashishrivastava/...</td>\n",
       "      <td>A new class action lawsuit was filed against O...</td>\n",
       "      <td>tech</td>\n",
       "    </tr>\n",
       "    <tr>\n",
       "      <th>97</th>\n",
       "      <td>forbes</td>\n",
       "      <td>https://www.forbes.com/sites/alexknapp/2023/11...</td>\n",
       "      <td>Only about 10% of drugs in development ever ma...</td>\n",
       "      <td>tech</td>\n",
       "    </tr>\n",
       "    <tr>\n",
       "      <th>98</th>\n",
       "      <td>fox</td>\n",
       "      <td>https://www.foxnews.com/tech/new-cisa-warning-...</td>\n",
       "      <td>On this Thanksgiving, many people are looking ...</td>\n",
       "      <td>tech</td>\n",
       "    </tr>\n",
       "    <tr>\n",
       "      <th>99</th>\n",
       "      <td>euronews</td>\n",
       "      <td>https://www.euronews.com/next/2023/11/26/wikip...</td>\n",
       "      <td>Jimmy Wales tells Euronews Next about the \"ter...</td>\n",
       "      <td>tech</td>\n",
       "    </tr>\n",
       "  </tbody>\n",
       "</table>\n",
       "</div>"
      ],
      "text/plain": [
       "          soruce                                                uri  \\\n",
       "95  the_guardian  https://www.theguardian.com/technology/2023/oc...   \n",
       "96        forbes  https://www.forbes.com/sites/rashishrivastava/...   \n",
       "97        forbes  https://www.forbes.com/sites/alexknapp/2023/11...   \n",
       "98           fox  https://www.foxnews.com/tech/new-cisa-warning-...   \n",
       "99      euronews  https://www.euronews.com/next/2023/11/26/wikip...   \n",
       "\n",
       "                                                 body category  \n",
       "95  Google’s standard Pixel 8 gets a little smalle...     tech  \n",
       "96  A new class action lawsuit was filed against O...     tech  \n",
       "97  Only about 10% of drugs in development ever ma...     tech  \n",
       "98  On this Thanksgiving, many people are looking ...     tech  \n",
       "99  Jimmy Wales tells Euronews Next about the \"ter...     tech  "
      ]
     },
     "execution_count": 10,
     "metadata": {},
     "output_type": "execute_result"
    }
   ],
   "source": [
    "news_df.tail()"
   ]
  },
  {
   "cell_type": "code",
   "execution_count": 15,
   "id": "d7955356-051c-4784-81e8-45a6ad615890",
   "metadata": {},
   "outputs": [
    {
     "data": {
      "image/png": "[encoded data removed]",
      "text/plain": [
       "<Figure size 576x576 with 1 Axes>"
      ]
     },
     "metadata": {},
     "output_type": "display_data"
    }
   ],
   "source": [
    "import matplotlib.pyplot as plt\n",
    "\n",
    "# Extract the category column\n",
    "cat_counts = news_df[\"category\"].value_counts()\n",
    "\n",
    "# Setting up the parameters\n",
    "labels = cat_counts.index\n",
    "size = cat_counts.values\n",
    "\n",
    "# Plot the pie chart\n",
    "plt.figure(figsize=(8,8))\n",
    "plt.pie(size, labels=labels, autopct='%1.1f%%', startangle=140)\n",
    "plt.title('Distribution of news categories')\n",
    "plt.show()"
   ]
  },
  {
   "cell_type": "code",
   "execution_count": 16,
   "id": "ae810aad-14bd-4088-9878-f6799f35c20b",
   "metadata": {},
   "outputs": [],
   "source": [
    "import pickle\n",
    "\n",
    "# load the logistic regression classifier\n",
    "with open"
   ]
  },
  {
   "cell_type": "code",
   "execution_count": null,
   "id": "826f4a0f-2dd8-467d-b91f-eea0f9f2b8f9",
   "metadata": {},
   "outputs": [],
   "source": []
  }
 ],
 "metadata": {
  "kernelspec": {
   "display_name": "Python 3 (ipykernel)",
   "language": "python",
   "name": "python3"
  },
  "language_info": {
   "codemirror_mode": {
    "name": "ipython",
    "version": 3
   },
   "file_extension": ".py",
   "mimetype": "text/x-python",
   "name": "python",
   "nbconvert_exporter": "python",
   "pygments_lexer": "ipython3",
   "version": "3.9.18"
  }
 },
 "nbformat": 4,
 "nbformat_minor": 5
}
