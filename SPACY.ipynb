{
 "cells": [
  {
   "cell_type": "code",
   "execution_count": 9,
   "id": "cb479133-ed7f-4e5a-a8ca-f8834b070657",
   "metadata": {},
   "outputs": [],
   "source": [
    "import spacy"
   ]
  },
  {
   "cell_type": "code",
   "execution_count": 10,
   "id": "adb0498d-b05a-4979-b35f-3267a4f8e3ec",
   "metadata": {
    "jupyter": {
     "source_hidden": true
    }
   },
   "outputs": [],
   "source": [
    "from spacy.lang.en.stop_words import STOP_WORDS\n",
    "from string import punctuation"
   ]
  },
  {
   "cell_type": "markdown",
   "id": "4a839a69-62f6-4fec-af70-32dc48c22bf0",
   "metadata": {},
   "source": [
    "Loading tokenizer, tagger (part of speech tagging), parser (syntactic dependency labels), and Named Entity Recognition NER (real-world objects naming such as Company name)"
   ]
  },
  {
   "cell_type": "code",
   "execution_count": 13,
   "id": "338ed705-3167-4821-a8e8-4ae59469444a",
   "metadata": {},
   "outputs": [
    {
     "name": "stdout",
     "output_type": "stream",
     "text": [
      "Collecting en-core-web-sm==3.7.1\n",
      "  Downloading https://github.com/explosion/spacy-models/releases/download/en_core_web_sm-3.7.1/en_core_web_sm-3.7.1-py3-none-any.whl (12.8 MB)\n",
      "\u001b[2K     \u001b[90m━━━━━━━━━━━━━━━━━━━━━━━━━━━━━━━━━━━━━━━━\u001b[0m \u001b[32m12.8/12.8 MB\u001b[0m \u001b[31m8.8 MB/s\u001b[0m eta \u001b[36m0:00:00\u001b[0m00:01\u001b[0m00:01\u001b[0m\n",
      "\u001b[?25hRequirement already satisfied: spacy<3.8.0,>=3.7.2 in /Users/amosmbp14/opt/anaconda3/envs/spacy/lib/python3.9/site-packages (from en-core-web-sm==3.7.1) (3.7.2)\n",
      "Requirement already satisfied: spacy-legacy<3.1.0,>=3.0.11 in /Users/amosmbp14/opt/anaconda3/envs/spacy/lib/python3.9/site-packages (from spacy<3.8.0,>=3.7.2->en-core-web-sm==3.7.1) (3.0.12)\n",
      "Requirement already satisfied: spacy-loggers<2.0.0,>=1.0.0 in /Users/amosmbp14/opt/anaconda3/envs/spacy/lib/python3.9/site-packages (from spacy<3.8.0,>=3.7.2->en-core-web-sm==3.7.1) (1.0.5)\n",
      "Requirement already satisfied: murmurhash<1.1.0,>=0.28.0 in /Users/amosmbp14/opt/anaconda3/envs/spacy/lib/python3.9/site-packages (from spacy<3.8.0,>=3.7.2->en-core-web-sm==3.7.1) (1.0.10)\n",
      "Requirement already satisfied: cymem<2.1.0,>=2.0.2 in /Users/amosmbp14/opt/anaconda3/envs/spacy/lib/python3.9/site-packages (from spacy<3.8.0,>=3.7.2->en-core-web-sm==3.7.1) (2.0.8)\n",
      "Requirement already satisfied: preshed<3.1.0,>=3.0.2 in /Users/amosmbp14/opt/anaconda3/envs/spacy/lib/python3.9/site-packages (from spacy<3.8.0,>=3.7.2->en-core-web-sm==3.7.1) (3.0.9)\n",
      "Requirement already satisfied: thinc<8.3.0,>=8.1.8 in /Users/amosmbp14/opt/anaconda3/envs/spacy/lib/python3.9/site-packages (from spacy<3.8.0,>=3.7.2->en-core-web-sm==3.7.1) (8.2.1)\n",
      "Requirement already satisfied: wasabi<1.2.0,>=0.9.1 in /Users/amosmbp14/opt/anaconda3/envs/spacy/lib/python3.9/site-packages (from spacy<3.8.0,>=3.7.2->en-core-web-sm==3.7.1) (1.1.2)\n",
      "Requirement already satisfied: srsly<3.0.0,>=2.4.3 in /Users/amosmbp14/opt/anaconda3/envs/spacy/lib/python3.9/site-packages (from spacy<3.8.0,>=3.7.2->en-core-web-sm==3.7.1) (2.4.8)\n",
      "Requirement already satisfied: catalogue<2.1.0,>=2.0.6 in /Users/amosmbp14/opt/anaconda3/envs/spacy/lib/python3.9/site-packages (from spacy<3.8.0,>=3.7.2->en-core-web-sm==3.7.1) (2.0.10)\n",
      "Requirement already satisfied: weasel<0.4.0,>=0.1.0 in /Users/amosmbp14/opt/anaconda3/envs/spacy/lib/python3.9/site-packages (from spacy<3.8.0,>=3.7.2->en-core-web-sm==3.7.1) (0.3.4)\n",
      "Requirement already satisfied: typer<0.10.0,>=0.3.0 in /Users/amosmbp14/opt/anaconda3/envs/spacy/lib/python3.9/site-packages (from spacy<3.8.0,>=3.7.2->en-core-web-sm==3.7.1) (0.9.0)\n",
      "Requirement already satisfied: smart-open<7.0.0,>=5.2.1 in /Users/amosmbp14/opt/anaconda3/envs/spacy/lib/python3.9/site-packages (from spacy<3.8.0,>=3.7.2->en-core-web-sm==3.7.1) (6.4.0)\n",
      "Requirement already satisfied: tqdm<5.0.0,>=4.38.0 in /Users/amosmbp14/opt/anaconda3/envs/spacy/lib/python3.9/site-packages (from spacy<3.8.0,>=3.7.2->en-core-web-sm==3.7.1) (4.66.1)\n",
      "Requirement already satisfied: requests<3.0.0,>=2.13.0 in /Users/amosmbp14/opt/anaconda3/envs/spacy/lib/python3.9/site-packages (from spacy<3.8.0,>=3.7.2->en-core-web-sm==3.7.1) (2.31.0)\n",
      "Requirement already satisfied: pydantic!=1.8,!=1.8.1,<3.0.0,>=1.7.4 in /Users/amosmbp14/opt/anaconda3/envs/spacy/lib/python3.9/site-packages (from spacy<3.8.0,>=3.7.2->en-core-web-sm==3.7.1) (2.5.2)\n",
      "Requirement already satisfied: jinja2 in /Users/amosmbp14/opt/anaconda3/envs/spacy/lib/python3.9/site-packages (from spacy<3.8.0,>=3.7.2->en-core-web-sm==3.7.1) (3.1.2)\n",
      "Requirement already satisfied: setuptools in /Users/amosmbp14/opt/anaconda3/envs/spacy/lib/python3.9/site-packages (from spacy<3.8.0,>=3.7.2->en-core-web-sm==3.7.1) (68.0.0)\n",
      "Requirement already satisfied: packaging>=20.0 in /Users/amosmbp14/opt/anaconda3/envs/spacy/lib/python3.9/site-packages (from spacy<3.8.0,>=3.7.2->en-core-web-sm==3.7.1) (23.1)\n",
      "Requirement already satisfied: langcodes<4.0.0,>=3.2.0 in /Users/amosmbp14/opt/anaconda3/envs/spacy/lib/python3.9/site-packages (from spacy<3.8.0,>=3.7.2->en-core-web-sm==3.7.1) (3.3.0)\n",
      "Requirement already satisfied: numpy>=1.19.0 in /Users/amosmbp14/opt/anaconda3/envs/spacy/lib/python3.9/site-packages (from spacy<3.8.0,>=3.7.2->en-core-web-sm==3.7.1) (1.26.2)\n",
      "Requirement already satisfied: annotated-types>=0.4.0 in /Users/amosmbp14/opt/anaconda3/envs/spacy/lib/python3.9/site-packages (from pydantic!=1.8,!=1.8.1,<3.0.0,>=1.7.4->spacy<3.8.0,>=3.7.2->en-core-web-sm==3.7.1) (0.6.0)\n",
      "Requirement already satisfied: pydantic-core==2.14.5 in /Users/amosmbp14/opt/anaconda3/envs/spacy/lib/python3.9/site-packages (from pydantic!=1.8,!=1.8.1,<3.0.0,>=1.7.4->spacy<3.8.0,>=3.7.2->en-core-web-sm==3.7.1) (2.14.5)\n",
      "Requirement already satisfied: typing-extensions>=4.6.1 in /Users/amosmbp14/opt/anaconda3/envs/spacy/lib/python3.9/site-packages (from pydantic!=1.8,!=1.8.1,<3.0.0,>=1.7.4->spacy<3.8.0,>=3.7.2->en-core-web-sm==3.7.1) (4.7.1)\n",
      "Requirement already satisfied: charset-normalizer<4,>=2 in /Users/amosmbp14/opt/anaconda3/envs/spacy/lib/python3.9/site-packages (from requests<3.0.0,>=2.13.0->spacy<3.8.0,>=3.7.2->en-core-web-sm==3.7.1) (2.0.4)\n",
      "Requirement already satisfied: idna<4,>=2.5 in /Users/amosmbp14/opt/anaconda3/envs/spacy/lib/python3.9/site-packages (from requests<3.0.0,>=2.13.0->spacy<3.8.0,>=3.7.2->en-core-web-sm==3.7.1) (3.4)\n",
      "Requirement already satisfied: urllib3<3,>=1.21.1 in /Users/amosmbp14/opt/anaconda3/envs/spacy/lib/python3.9/site-packages (from requests<3.0.0,>=2.13.0->spacy<3.8.0,>=3.7.2->en-core-web-sm==3.7.1) (1.26.18)\n",
      "Requirement already satisfied: certifi>=2017.4.17 in /Users/amosmbp14/opt/anaconda3/envs/spacy/lib/python3.9/site-packages (from requests<3.0.0,>=2.13.0->spacy<3.8.0,>=3.7.2->en-core-web-sm==3.7.1) (2023.11.17)\n",
      "Requirement already satisfied: blis<0.8.0,>=0.7.8 in /Users/amosmbp14/opt/anaconda3/envs/spacy/lib/python3.9/site-packages (from thinc<8.3.0,>=8.1.8->spacy<3.8.0,>=3.7.2->en-core-web-sm==3.7.1) (0.7.11)\n",
      "Requirement already satisfied: confection<1.0.0,>=0.0.1 in /Users/amosmbp14/opt/anaconda3/envs/spacy/lib/python3.9/site-packages (from thinc<8.3.0,>=8.1.8->spacy<3.8.0,>=3.7.2->en-core-web-sm==3.7.1) (0.1.4)\n",
      "Requirement already satisfied: click<9.0.0,>=7.1.1 in /Users/amosmbp14/opt/anaconda3/envs/spacy/lib/python3.9/site-packages (from typer<0.10.0,>=0.3.0->spacy<3.8.0,>=3.7.2->en-core-web-sm==3.7.1) (8.1.7)\n",
      "Requirement already satisfied: cloudpathlib<0.17.0,>=0.7.0 in /Users/amosmbp14/opt/anaconda3/envs/spacy/lib/python3.9/site-packages (from weasel<0.4.0,>=0.1.0->spacy<3.8.0,>=3.7.2->en-core-web-sm==3.7.1) (0.16.0)\n",
      "Requirement already satisfied: MarkupSafe>=2.0 in /Users/amosmbp14/opt/anaconda3/envs/spacy/lib/python3.9/site-packages (from jinja2->spacy<3.8.0,>=3.7.2->en-core-web-sm==3.7.1) (2.1.1)\n",
      "Installing collected packages: en-core-web-sm\n",
      "Successfully installed en-core-web-sm-3.7.1\n",
      "\u001b[38;5;2m✔ Download and installation successful\u001b[0m\n",
      "You can now load the package via spacy.load('en_core_web_sm')\n"
     ]
    }
   ],
   "source": [
    "!python -m spacy download en_core_web_sm"
   ]
  },
  {
   "cell_type": "code",
   "execution_count": 57,
   "id": "62fd2a1a-0b3d-4019-8afe-3f7822960fdd",
   "metadata": {},
   "outputs": [],
   "source": [
    "# Loading\n",
    "nlp = spacy.load('en_core_web_sm')"
   ]
  },
  {
   "cell_type": "code",
   "execution_count": 70,
   "id": "86b5db06-0f11-4a3b-b0f6-ef1ab5ea2a23",
   "metadata": {},
   "outputs": [],
   "source": [
    "news_text = \"Suella Braverman has said she very much hopes the prime \\\n",
    "minister changes course with his efforts to tackle illegal migration \\\n",
    "after his plan to send asylum seekers to Rwanda was dealt a blow with \\\n",
    "the resignation of Robert Jenrick. The former home secretary, who was \\\n",
    "sacked by Rishi Sunak last month, said she wanted the prime minister to \\\n",
    "succeed in stopping the boats but that he would have to change course and \\\n",
    "take on observations from critics to do that. Ms Braverman, who warned in \\\n",
    "the Commons on Wednesday that the Conservatives faced electoral oblivion \\\n",
    "in a matter of months over the issue, told BBC Radio 4s Today programme: \\\n",
    "I want the prime minister to succeed in stopping the boats. He said he \\\n",
    "would do whatever it takes. I'm telling him there is a way to succeed in \\\n",
    "stopping the boats and fulfilling that promise. If we do it, if he does \\\n",
    "it as prime minister, he will be able to lead us into the next election \\\n",
    "telling the people we have succeeded on this very important pledge. Ms \\\n",
    "Braverman is the latest senior Conservative to pour scorn on the prime \\\n",
    "minister's emergency Rwanda bill, published last night, which compels UK \\\n",
    "judges to treat the African nation as a safe country and gives ministers \\\n",
    "powers to disregard sections of the Human Rights Act. Last night, Mr Sunak \\\n",
    "suffered the resignation of Mr Jenrick over the bill, which he said does \\\n",
    "not go far enough and represented a triumph of hope over experience. On \\\n",
    "Thursday morning, Mr Jenrick was replaced with two people after the \\\n",
    "government carved the role of Minister of State for Immigration into \\\n",
    "Minister for Illegal Migration and Minister for Legal Migration and Delivery. \\\n",
    "Michael Tomlinson was appointed Minister for Illegal Migration while Tom \\\n",
    "Pursglove was moved into the post of Minister for Legal Migration and \\\n",
    "Delivery. Robert Courts is now the new solicitor general after Mr Tomlinson \\\n",
    "was moved from the role. Although the bill allows ministers to disapply \\\n",
    "sections of the Human Rights Act, it does not disregard the entire \\\n",
    "legislation, as some had demanded, and it does not include powers to dismiss \\\n",
    "the whole of the European Convention on Human Rights (ECHR). Ms Braverman \\\n",
    "agreed with Mr Jenrick in saying that the prime minister's bill as it \\\n",
    "currently stands won't work and ultimately will fail. There are elements that \\\n",
    "should be welcomed in this new bill that the prime minister has presented, Ms \\\n",
    "Braverman said. But taken as a whole and looking at the reality of the \\\n",
    "challenges that are involved in detaining people, removing people and \\\n",
    "getting them to Rwanda - this is a very litigious field and there are lots of \\\n",
    "legal frameworks that apply - the reality is, and the sorry truth is, that it \\\n",
    "won't work and it will not stop the boats. She added: You can't tweak at this \\\n",
    "problem. We can't do half measures. We have to totally exclude international \\\n",
    "law - the Refugee Convention, other broader avenues of legal challenge. \\\n",
    "The former home secretary was challenged on her motives for opposing the bill, \\\n",
    "to which she replied that she wanted the prime minister to fulfil the promise \\\n",
    "he made to stop the boats. She indicated that her support for Mr Sunak was \\\n",
    "contingent on adopting a receptive attitude to some of the changes people are \\\n",
    "suggesting and added: There is still time to change this bill. Asked whether \\\n",
    "he could remain as Tory leader if he decided not to change the bill, \\\n",
    "Ms Braverman said: No one is talking about leadership or changing leader. \\\n",
    "Put to her that that was nonsense and pressed on whether she would plot \\\n",
    "against Mr Sunak to remove him, she replied: I want the prime minister to \\\n",
    "succeed in stopping the boats.\""
   ]
  },
  {
   "cell_type": "code",
   "execution_count": 71,
   "id": "295f3de0-7d63-4d22-bbf9-0ef518282b69",
   "metadata": {},
   "outputs": [
    {
     "data": {
      "text/plain": [
       "Suella Braverman has said she very much hopes the prime minister changes course with his efforts to tackle illegal migration after his plan to send asylum seekers to Rwanda was dealt a blow with the resignation of Robert Jenrick. The former home secretary, who was sacked by Rishi Sunak last month, said she wanted the prime minister to succeed in stopping the boats but that he would have to change course and take on observations from critics to do that. Ms Braverman, who warned in the Commons on Wednesday that the Conservatives faced electoral oblivion in a matter of months over the issue, told BBC Radio 4s Today programme: I want the prime minister to succeed in stopping the boats. He said he would do whatever it takes. I'm telling him there is a way to succeed in stopping the boats and fulfilling that promise. If we do it, if he does it as prime minister, he will be able to lead us into the next election telling the people we have succeeded on this very important pledge. Ms Braverman is the latest senior Conservative to pour scorn on the prime minister's emergency Rwanda bill, published last night, which compels UK judges to treat the African nation as a safe country and gives ministers powers to disregard sections of the Human Rights Act. Last night, Mr Sunak suffered the resignation of Mr Jenrick over the bill, which he said does not go far enough and represented a triumph of hope over experience. On Thursday morning, Mr Jenrick was replaced with two people after the government carved the role of Minister of State for Immigration into Minister for Illegal Migration and Minister for Legal Migration and Delivery. Michael Tomlinson was appointed Minister for Illegal Migration while Tom Pursglove was moved into the post of Minister for Legal Migration and Delivery. Robert Courts is now the new solicitor general after Mr Tomlinson was moved from the role. Although the bill allows ministers to disapply sections of the Human Rights Act, it does not disregard the entire legislation, as some had demanded, and it does not include powers to dismiss the whole of the European Convention on Human Rights (ECHR). Ms Braverman agreed with Mr Jenrick in saying that the prime minister's bill as it currently stands won't work and ultimately will fail. There are elements that should be welcomed in this new bill that the prime minister has presented, Ms Braverman said. But taken as a whole and looking at the reality of the challenges that are involved in detaining people, removing people and getting them to Rwanda - this is a very litigious field and there are lots of legal frameworks that apply - the reality is, and the sorry truth is, that it won't work and it will not stop the boats. She added: You can't tweak at this problem. We can't do half measures. We have to totally exclude international law - the Refugee Convention, other broader avenues of legal challenge. The former home secretary was challenged on her motives for opposing the bill, to which she replied that she wanted the prime minister to fulfil the promise he made to stop the boats. She indicated that her support for Mr Sunak was contingent on adopting a receptive attitude to some of the changes people are suggesting and added: There is still time to change this bill. Asked whether he could remain as Tory leader if he decided not to change the bill, Ms Braverman said: No one is talking about leadership or changing leader. Put to her that that was nonsense and pressed on whether she would plot against Mr Sunak to remove him, she replied: I want the prime minister to succeed in stopping the boats."
      ]
     },
     "execution_count": 71,
     "metadata": {},
     "output_type": "execute_result"
    }
   ],
   "source": [
    "# Process the text by loading the nlp function\n",
    "doc = nlp(news_text)\n",
    "doc"
   ]
  },
  {
   "cell_type": "code",
   "execution_count": 83,
   "id": "66de41ee-d372-4c68-8d1d-499acae78409",
   "metadata": {},
   "outputs": [],
   "source": [
    "# tokenization\n",
    "tokens = [token.text for token in doc]"
   ]
  },
  {
   "cell_type": "code",
   "execution_count": 84,
   "id": "24b57c3b-ca66-4a4f-b52c-69e9daf65550",
   "metadata": {},
   "outputs": [],
   "source": [
    "# add extra punctuations\n",
    "punctuation = punctuation + '\\n                 '"
   ]
  },
  {
   "cell_type": "code",
   "execution_count": 74,
   "id": "a7f5b39a-c140-43af-a179-1a5112ededc3",
   "metadata": {},
   "outputs": [
    {
     "name": "stdout",
     "output_type": "stream",
     "text": [
      "{'suella': 1, 'braverman': 6, 'said': 6, 'hopes': 1, 'prime': 9, 'minister': 14, 'changes': 2, 'course': 2, 'efforts': 1, 'tackle': 1, 'illegal': 3, 'migration': 5, 'plan': 1, 'send': 1, 'asylum': 1, 'seekers': 1, 'rwanda': 3, 'dealt': 1, 'blow': 1, 'resignation': 2, 'robert': 2, 'jenrick': 4, 'home': 2, 'secretary': 2, 'sacked': 1, 'rishi': 1, 'sunak': 4, 'month': 1, 'wanted': 2, 'succeed': 4, 'stopping': 4, 'boats': 6, 'change': 3, 'observations': 1, 'critics': 1, 'ms': 5, 'warned': 1, 'commons': 1, 'wednesday': 1, 'conservatives': 1, 'faced': 1, 'electoral': 1, 'oblivion': 1, 'matter': 1, 'months': 1, 'issue': 1, 'told': 1, 'bbc': 1, 'radio': 1, '4s': 1, 'today': 1, 'programme': 1, 'want': 2, 'takes': 1, 'telling': 2, 'way': 1, 'fulfilling': 1, 'promise': 2, 'able': 1, 'lead': 1, 'election': 1, 'people': 5, 'succeeded': 1, 'important': 1, 'pledge': 1, 'latest': 1, 'senior': 1, 'conservative': 1, 'pour': 1, 'scorn': 1, 'emergency': 1, 'bill': 8, 'published': 1, 'night': 2, 'compels': 1, 'uk': 1, 'judges': 1, 'treat': 1, 'african': 1, 'nation': 1, 'safe': 1, 'country': 1, 'gives': 1, 'ministers': 2, 'powers': 2, 'disregard': 2, 'sections': 2, 'human': 3, 'rights': 3, 'act': 2, 'mr': 7, 'suffered': 1, 'far': 1, 'represented': 1, 'triumph': 1, 'hope': 1, 'experience': 1, 'thursday': 1, 'morning': 1, 'replaced': 1, 'government': 1, 'carved': 1, 'role': 2, 'state': 1, 'immigration': 1, 'legal': 4, 'delivery': 2, 'michael': 1, 'tomlinson': 2, 'appointed': 1, 'tom': 1, 'pursglove': 1, 'moved': 2, 'post': 1, 'courts': 1, 'new': 2, 'solicitor': 1, 'general': 1, 'allows': 1, 'disapply': 1, 'entire': 1, 'legislation': 1, 'demanded': 1, 'include': 1, 'dismiss': 1, 'european': 1, 'convention': 2, 'echr': 1, 'agreed': 1, 'saying': 1, 'currently': 1, 'stands': 1, 'wo': 2, 'work': 2, 'ultimately': 1, 'fail': 1, 'elements': 1, 'welcomed': 1, 'presented': 1, 'taken': 1, 'looking': 1, 'reality': 2, 'challenges': 1, 'involved': 1, 'detaining': 1, 'removing': 1, 'getting': 1, 'litigious': 1, 'field': 1, 'lots': 1, 'frameworks': 1, 'apply': 1, 'sorry': 1, 'truth': 1, 'stop': 2, 'added': 2, 'tweak': 1, 'problem': 1, 'half': 1, 'measures': 1, 'totally': 1, 'exclude': 1, 'international': 1, 'law': 1, 'refugee': 1, 'broader': 1, 'avenues': 1, 'challenge': 1, 'challenged': 1, 'motives': 1, 'opposing': 1, 'replied': 2, 'fulfil': 1, 'indicated': 1, 'support': 1, 'contingent': 1, 'adopting': 1, 'receptive': 1, 'attitude': 1, 'suggesting': 1, 'time': 1, 'asked': 1, 'remain': 1, 'tory': 1, 'leader': 2, 'decided': 1, 'talking': 1, 'leadership': 1, 'changing': 1, 'nonsense': 1, 'pressed': 1, 'plot': 1, 'remove': 1}\n"
     ]
    }
   ],
   "source": [
    "# Text preprocessing and cleaning\n",
    "word_freq = {}\n",
    "stop_words = list(STOP_WORDS)\n",
    "\n",
    "for word in doc:\n",
    "    word_lower = word.text.lower()\n",
    "    if word_lower not in stop_words:\n",
    "        if word_lower not in punctuation:\n",
    "            if word_lower not in word_freq.keys():\n",
    "                word_freq[word_lower] = 1\n",
    "            else:\n",
    "                word_freq[word_lower] += 1\n",
    "print(word_freq)\n"
   ]
  },
  {
   "cell_type": "code",
   "execution_count": 75,
   "id": "e5afe656-bf90-43f2-829a-5c0666071d2a",
   "metadata": {},
   "outputs": [
    {
     "name": "stdout",
     "output_type": "stream",
     "text": [
      "max count: 14\n"
     ]
    }
   ],
   "source": [
    "print('max count:', max(word_freq.values()))"
   ]
  },
  {
   "cell_type": "code",
   "execution_count": 86,
   "id": "85cf32db-f2f7-43eb-9164-46ca67ba7263",
   "metadata": {},
   "outputs": [],
   "source": [
    "# normalizing frequency counts\n",
    "# frequency change to 0 - 1 range\n",
    "for word in word_freq.keys():\n",
    "    word_freq[word] = word_freq[word]/max(word_freq.values())\n",
    "\n",
    "# normalized frequency values\n",
    "#print(word_freq)"
   ]
  },
  {
   "cell_type": "code",
   "execution_count": 87,
   "id": "078e4e32-4b48-464f-8a4e-8f48988dc2c1",
   "metadata": {},
   "outputs": [],
   "source": [
    "# Sentence Tokenization\n",
    "sent_tokens = [sent for sent in doc.sents]"
   ]
  },
  {
   "cell_type": "code",
   "execution_count": 78,
   "id": "f357a97e-2a05-45cb-9cc2-5aa6171dd101",
   "metadata": {},
   "outputs": [
    {
     "name": "stdout",
     "output_type": "stream",
     "text": [
      "{Suella Braverman has said she very much hopes the prime minister changes course with his efforts to tackle illegal migration after his plan to send asylum seekers to Rwanda was dealt a blow with the resignation of Robert Jenrick.: 6.517857142857142, The former home secretary, who was sacked by Rishi Sunak last month, said she wanted the prime minister to succeed in stopping the boats but that he would have to change course and take on observations from critics to do that.: 6.321428571428571, Ms Braverman, who warned in the Commons on Wednesday that the Conservatives faced electoral oblivion in a matter of months over the issue, told BBC Radio 4s Today programme: I want the prime minister to succeed in stopping the boats.: 6.696428571428571, He said he would do whatever it takes.: 0.5535714285714286, I'm telling him there is a way to succeed in stopping the boats and fulfilling that promise.: 2.5, If we do it, if he does it as prime minister, he will be able to lead us into the next election telling the people we have succeeded on this very important pledge.: 3.267857142857143, Ms Braverman is the latest senior Conservative to pour scorn on the prime minister's emergency Rwanda bill, published last night, which compels UK judges to treat the African nation as a safe country and gives ministers powers to disregard sections of the Human Rights Act.: 8.821428571428575, Last night, Mr Sunak suffered the resignation of Mr Jenrick over the bill, which he said does not go far enough and represented a triumph of hope over experience.: 6.464285714285714, On Thursday morning, Mr Jenrick was replaced with two people after the government carved the role of Minister of State for Immigration into Minister for Illegal Migration and Minister for Legal Migration and Delivery.: 11.0, Michael Tomlinson was appointed Minister for Illegal Migration while Tom Pursglove was moved into the post of Minister for Legal Migration and Delivery.: 10.125, Robert Courts is now the new solicitor general after Mr Tomlinson was moved from the role.: 6.25, Although the bill allows ministers to disapply sections of the Human Rights Act, it does not disregard the entire legislation, as some had demanded, and it does not include powers to dismiss the whole of the European Convention on Human Rights (ECHR).: 9.642857142857142, Ms Braverman agreed with Mr Jenrick in saying that the prime minister's bill as it currently stands won't work and ultimately will fail.: 10.196428571428573, There are elements that should be welcomed in this new bill that the prime minister has presented, Ms Braverman said.: 6.625, But taken as a whole and looking at the reality of the challenges that are involved in detaining people, removing people and getting them to Rwanda - this is a very litigious field and there are lots of legal frameworks that apply - the reality is, and the sorry truth is, that it won't work and it will not stop the boats.: 15.375, She added: You can't tweak at this problem.: 2.0, We can't do half measures.: 1.0, We have to totally exclude international law - the Refugee Convention, other broader avenues of legal challenge.: 6.0, The former home secretary was challenged on her motives for opposing the bill, to which she replied that she wanted the prime minister to fulfil the promise he made to stop the boats.: 8.392857142857142, She indicated that her support for Mr Sunak was contingent on adopting a receptive attitude to some of the changes people are suggesting and added: There is still time to change this bill.: 8.75, Asked whether he could remain as Tory leader if he decided not to change the bill, Ms Braverman said: No one is talking about leadership or changing leader.: 10.357142857142858, Put to her that that was nonsense and pressed on whether she would plot against Mr Sunak to remove him, she replied: I want the prime minister to succeed in stopping the boats.: 10.142857142857142}\n"
     ]
    }
   ],
   "source": [
    "# Finding the sentence scores\n",
    "sent_score = {}\n",
    "for sent in sent_tokens:\n",
    "    for word in sent:\n",
    "        if word.text.lower() in word_freq.keys():\n",
    "            if sent not in sent_score.keys():\n",
    "                sent_score[sent] = word_freq[word.text.lower()]\n",
    "            else:\n",
    "                sent_score[sent] += word_freq[word.text.lower()]\n",
    "\n",
    "print(sent_score)"
   ]
  },
  {
   "cell_type": "code",
   "execution_count": 82,
   "id": "5c47778a-b913-4aba-95ee-aed568deffb6",
   "metadata": {},
   "outputs": [
    {
     "name": "stdout",
     "output_type": "stream",
     "text": [
      "[But taken as a whole and looking at the reality of the challenges that are involved in detaining people, removing people and getting them to Rwanda - this is a very litigious field and there are lots of legal frameworks that apply - the reality is, and the sorry truth is, that it won't work and it will not stop the boats., On Thursday morning, Mr Jenrick was replaced with two people after the government carved the role of Minister of State for Immigration into Minister for Illegal Migration and Minister for Legal Migration and Delivery., Asked whether he could remain as Tory leader if he decided not to change the bill, Ms Braverman said: No one is talking about leadership or changing leader., Ms Braverman agreed with Mr Jenrick in saying that the prime minister's bill as it currently stands won't work and ultimately will fail.]\n"
     ]
    }
   ],
   "source": [
    "# Selecting 30% sentence with max socres\n",
    "from heapq import nlargest\n",
    "summary = nlargest(n=4, iterable = sent_score, \n",
    "                  key=sent_score.get)\n",
    "print(summary)"
   ]
  }
 ],
 "metadata": {
  "kernelspec": {
   "display_name": "Python 3 (ipykernel)",
   "language": "python",
   "name": "python3"
  },
  "language_info": {
   "codemirror_mode": {
    "name": "ipython",
    "version": 3
   },
   "file_extension": ".py",
   "mimetype": "text/x-python",
   "name": "python",
   "nbconvert_exporter": "python",
   "pygments_lexer": "ipython3",
   "version": "3.9.18"
  }
 },
 "nbformat": 4,
 "nbformat_minor": 5
}
